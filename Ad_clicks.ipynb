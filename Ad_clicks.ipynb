{
  "nbformat": 4,
  "nbformat_minor": 0,
  "metadata": {
    "colab": {
      "name": "Ad-clicks.ipynb",
      "provenance": [],
      "collapsed_sections": [],
      "toc_visible": true,
      "authorship_tag": "ABX9TyMSZOkJvONs0vhangU311Kw",
      "include_colab_link": true
    },
    "kernelspec": {
      "name": "ir",
      "display_name": "R"
    }
  },
  "cells": [
    {
      "cell_type": "markdown",
      "metadata": {
        "id": "view-in-github",
        "colab_type": "text"
      },
      "source": [
        "<a href=\"https://colab.research.google.com/github/JoanYego/EDA-in-R/blob/main/Ad_clicks.ipynb\" target=\"_parent\"><img src=\"https://colab.research.google.com/assets/colab-badge.svg\" alt=\"Open In Colab\"/></a>"
      ]
    },
    {
      "cell_type": "markdown",
      "metadata": {
        "id": "MFXr90LTznhw"
      },
      "source": [
        "# Defining the Research Problem"
      ]
    },
    {
      "cell_type": "markdown",
      "metadata": {
        "id": "vv1mS1BdzJUp"
      },
      "source": [
        "## Specifying the Research Question"
      ]
    },
    {
      "cell_type": "markdown",
      "metadata": {
        "id": "tXDoRpCwRJla"
      },
      "source": [
        "The goal of this analysis is to identify individuals who are most likely to click on a cryptography course advertisement. This project uses R for analysis."
      ]
    },
    {
      "cell_type": "markdown",
      "metadata": {
        "id": "taAbNJl0zOW_"
      },
      "source": [
        "## Defining the Metric for Success"
      ]
    },
    {
      "cell_type": "markdown",
      "metadata": {
        "id": "lHcVlgM8RcuP"
      },
      "source": [
        "The project will be considered a success when we are able to clean and analyse past data to segment blog users and identify individuals who should be targeted for an advertisement."
      ]
    },
    {
      "cell_type": "markdown",
      "metadata": {
        "id": "Dr7GjVfAzf38"
      },
      "source": [
        "## Understanding the Context"
      ]
    },
    {
      "cell_type": "markdown",
      "metadata": {
        "id": "EjhFolyqRxGI"
      },
      "source": [
        "A Kenyan entrepreneur has created an online cryptography course and would want to advertise it on her blog. She currently targets audiences originating from various countries. In the past, she ran ads to advertise a related course on the same blog and collected data in the process. She has employed my services as a Data Science Consultant to help her identify which individuals are most likely to click on her ads. "
      ]
    },
    {
      "cell_type": "markdown",
      "metadata": {
        "id": "RuExDQIxzQyB"
      },
      "source": [
        "## Recording the Exprimental Design"
      ]
    },
    {
      "cell_type": "markdown",
      "metadata": {
        "id": "QbF6SvSaSdZ1"
      },
      "source": [
        "Below are the steps that will be followed in this analysis in order to respond to the research question satisfactorily:\n",
        "\n",
        ">* Read the Data\n",
        ">* Check the Data\n",
        ">* Data Cleaning\n",
        ">* Univariate Analysis\n",
        ">* Bivariate Analysis\n",
        ">* Conclusion and Recommendation\n"
      ]
    },
    {
      "cell_type": "markdown",
      "metadata": {
        "id": "1hzNCN_xzVIf"
      },
      "source": [
        "## Data Relevance"
      ]
    },
    {
      "cell_type": "markdown",
      "metadata": {
        "id": "u4Lg_ldFTP9j"
      },
      "source": [
        "The data used for the project was collected from a prior advertisement for a similar course on the same platform. The dataset contains 10 attributes and 1,000 records. These attributes contain descriptive information of past blog users. Some of the attributes include country, age and gender of the user among others."
      ]
    },
    {
      "cell_type": "markdown",
      "metadata": {
        "id": "XVXr2MvcODLQ"
      },
      "source": [
        "# Importing Relevant Libraries"
      ]
    },
    {
      "cell_type": "code",
      "metadata": {
        "id": "OIiMSBSUUcZo",
        "outputId": "c19a1ba5-6719-4b1e-fb52-c5c4dd7a2621",
        "colab": {
          "base_uri": "https://localhost:8080/"
        }
      },
      "source": [
        "# Installing data.table package\n",
        "install.packages(\"data.table\", dependencies=TRUE)"
      ],
      "execution_count": null,
      "outputs": [
        {
          "output_type": "stream",
          "text": [
            "Installing package into ‘/usr/local/lib/R/site-library’\n",
            "(as ‘lib’ is unspecified)\n",
            "\n",
            "also installing the dependencies ‘bit’, ‘R.oo’, ‘R.methodsS3’, ‘RcppCCTZ’, ‘RcppDate’, ‘bit64’, ‘R.utils’, ‘xts’, ‘nanotime’, ‘zoo’\n",
            "\n",
            "\n"
          ],
          "name": "stderr"
        }
      ]
    },
    {
      "cell_type": "markdown",
      "metadata": {
        "id": "dGEyA2b1OD-D"
      },
      "source": [
        "# Reading the Data"
      ]
    },
    {
      "cell_type": "code",
      "metadata": {
        "id": "WmH-a1veN1fO",
        "outputId": "2b6a9a31-2b60-4517-8699-52922e410b89",
        "colab": {
          "base_uri": "https://localhost:8080/",
          "height": 323
        }
      },
      "source": [
        "# Reading the data into R from the csv file\n",
        "\n",
        "library(data.table)\n",
        "ad <- fread('advertising.csv')\n",
        "head(ad)"
      ],
      "execution_count": null,
      "outputs": [
        {
          "output_type": "display_data",
          "data": {
            "text/plain": [
              "  Daily Time Spent on Site Age Area Income Daily Internet Usage\n",
              "1 68.95                    35  61833.90    256.09              \n",
              "2 80.23                    31  68441.85    193.77              \n",
              "3 69.47                    26  59785.94    236.50              \n",
              "4 74.15                    29  54806.18    245.89              \n",
              "5 68.37                    35  73889.99    225.58              \n",
              "6 59.99                    23  59761.56    226.74              \n",
              "  Ad Topic Line                         City           Male Country   \n",
              "1 Cloned 5thgeneration orchestration    Wrightburgh    0    Tunisia   \n",
              "2 Monitored national standardization    West Jodi      1    Nauru     \n",
              "3 Organic bottom-line service-desk      Davidton       0    San Marino\n",
              "4 Triple-buffered reciprocal time-frame West Terrifurt 1    Italy     \n",
              "5 Robust logistical utilization         South Manuel   0    Iceland   \n",
              "6 Sharable client-driven software       Jamieberg      1    Norway    \n",
              "  Timestamp           Clicked on Ad\n",
              "1 2016-03-27 00:53:11 0            \n",
              "2 2016-04-04 01:39:02 0            \n",
              "3 2016-03-13 20:35:42 0            \n",
              "4 2016-01-10 02:31:19 0            \n",
              "5 2016-06-03 03:36:18 0            \n",
              "6 2016-05-19 14:30:17 0            "
            ],
            "text/latex": "A data.table: 6 × 10\n\\begin{tabular}{llllllllll}\n Daily Time Spent on Site & Age & Area Income & Daily Internet Usage & Ad Topic Line & City & Male & Country & Timestamp & Clicked on Ad\\\\\n <dbl> & <int> & <dbl> & <dbl> & <chr> & <chr> & <int> & <chr> & <chr> & <int>\\\\\n\\hline\n\t 68.95 & 35 & 61833.90 & 256.09 & Cloned 5thgeneration orchestration    & Wrightburgh    & 0 & Tunisia    & 2016-03-27 00:53:11 & 0\\\\\n\t 80.23 & 31 & 68441.85 & 193.77 & Monitored national standardization    & West Jodi      & 1 & Nauru      & 2016-04-04 01:39:02 & 0\\\\\n\t 69.47 & 26 & 59785.94 & 236.50 & Organic bottom-line service-desk      & Davidton       & 0 & San Marino & 2016-03-13 20:35:42 & 0\\\\\n\t 74.15 & 29 & 54806.18 & 245.89 & Triple-buffered reciprocal time-frame & West Terrifurt & 1 & Italy      & 2016-01-10 02:31:19 & 0\\\\\n\t 68.37 & 35 & 73889.99 & 225.58 & Robust logistical utilization         & South Manuel   & 0 & Iceland    & 2016-06-03 03:36:18 & 0\\\\\n\t 59.99 & 23 & 59761.56 & 226.74 & Sharable client-driven software       & Jamieberg      & 1 & Norway     & 2016-05-19 14:30:17 & 0\\\\\n\\end{tabular}\n",
            "text/markdown": "\nA data.table: 6 × 10\n\n| Daily Time Spent on Site &lt;dbl&gt; | Age &lt;int&gt; | Area Income &lt;dbl&gt; | Daily Internet Usage &lt;dbl&gt; | Ad Topic Line &lt;chr&gt; | City &lt;chr&gt; | Male &lt;int&gt; | Country &lt;chr&gt; | Timestamp &lt;chr&gt; | Clicked on Ad &lt;int&gt; |\n|---|---|---|---|---|---|---|---|---|---|\n| 68.95 | 35 | 61833.90 | 256.09 | Cloned 5thgeneration orchestration    | Wrightburgh    | 0 | Tunisia    | 2016-03-27 00:53:11 | 0 |\n| 80.23 | 31 | 68441.85 | 193.77 | Monitored national standardization    | West Jodi      | 1 | Nauru      | 2016-04-04 01:39:02 | 0 |\n| 69.47 | 26 | 59785.94 | 236.50 | Organic bottom-line service-desk      | Davidton       | 0 | San Marino | 2016-03-13 20:35:42 | 0 |\n| 74.15 | 29 | 54806.18 | 245.89 | Triple-buffered reciprocal time-frame | West Terrifurt | 1 | Italy      | 2016-01-10 02:31:19 | 0 |\n| 68.37 | 35 | 73889.99 | 225.58 | Robust logistical utilization         | South Manuel   | 0 | Iceland    | 2016-06-03 03:36:18 | 0 |\n| 59.99 | 23 | 59761.56 | 226.74 | Sharable client-driven software       | Jamieberg      | 1 | Norway     | 2016-05-19 14:30:17 | 0 |\n\n",
            "text/html": [
              "<table>\n",
              "<caption>A data.table: 6 × 10</caption>\n",
              "<thead>\n",
              "\t<tr><th scope=col>Daily Time Spent on Site</th><th scope=col>Age</th><th scope=col>Area Income</th><th scope=col>Daily Internet Usage</th><th scope=col>Ad Topic Line</th><th scope=col>City</th><th scope=col>Male</th><th scope=col>Country</th><th scope=col>Timestamp</th><th scope=col>Clicked on Ad</th></tr>\n",
              "\t<tr><th scope=col>&lt;dbl&gt;</th><th scope=col>&lt;int&gt;</th><th scope=col>&lt;dbl&gt;</th><th scope=col>&lt;dbl&gt;</th><th scope=col>&lt;chr&gt;</th><th scope=col>&lt;chr&gt;</th><th scope=col>&lt;int&gt;</th><th scope=col>&lt;chr&gt;</th><th scope=col>&lt;chr&gt;</th><th scope=col>&lt;int&gt;</th></tr>\n",
              "</thead>\n",
              "<tbody>\n",
              "\t<tr><td>68.95</td><td>35</td><td>61833.90</td><td>256.09</td><td>Cloned 5thgeneration orchestration   </td><td>Wrightburgh   </td><td>0</td><td>Tunisia   </td><td>2016-03-27 00:53:11</td><td>0</td></tr>\n",
              "\t<tr><td>80.23</td><td>31</td><td>68441.85</td><td>193.77</td><td>Monitored national standardization   </td><td>West Jodi     </td><td>1</td><td>Nauru     </td><td>2016-04-04 01:39:02</td><td>0</td></tr>\n",
              "\t<tr><td>69.47</td><td>26</td><td>59785.94</td><td>236.50</td><td>Organic bottom-line service-desk     </td><td>Davidton      </td><td>0</td><td>San Marino</td><td>2016-03-13 20:35:42</td><td>0</td></tr>\n",
              "\t<tr><td>74.15</td><td>29</td><td>54806.18</td><td>245.89</td><td>Triple-buffered reciprocal time-frame</td><td>West Terrifurt</td><td>1</td><td>Italy     </td><td>2016-01-10 02:31:19</td><td>0</td></tr>\n",
              "\t<tr><td>68.37</td><td>35</td><td>73889.99</td><td>225.58</td><td>Robust logistical utilization        </td><td>South Manuel  </td><td>0</td><td>Iceland   </td><td>2016-06-03 03:36:18</td><td>0</td></tr>\n",
              "\t<tr><td>59.99</td><td>23</td><td>59761.56</td><td>226.74</td><td>Sharable client-driven software      </td><td>Jamieberg     </td><td>1</td><td>Norway    </td><td>2016-05-19 14:30:17</td><td>0</td></tr>\n",
              "</tbody>\n",
              "</table>\n"
            ]
          },
          "metadata": {
            "tags": []
          }
        }
      ]
    },
    {
      "cell_type": "markdown",
      "metadata": {
        "id": "RVdqT9slOJsT"
      },
      "source": [
        "# Checking the Data"
      ]
    },
    {
      "cell_type": "code",
      "metadata": {
        "id": "JO4OExO2FkmB",
        "outputId": "e7259a5d-dfa2-495d-a768-2771e3a1e255",
        "colab": {
          "base_uri": "https://localhost:8080/",
          "height": 323
        }
      },
      "source": [
        "# Checking the top 6 records \n",
        "\n",
        "head(ad)"
      ],
      "execution_count": null,
      "outputs": [
        {
          "output_type": "display_data",
          "data": {
            "text/plain": [
              "  Daily Time Spent on Site Age Area Income Daily Internet Usage\n",
              "1 68.95                    35  61833.90    256.09              \n",
              "2 80.23                    31  68441.85    193.77              \n",
              "3 69.47                    26  59785.94    236.50              \n",
              "4 74.15                    29  54806.18    245.89              \n",
              "5 68.37                    35  73889.99    225.58              \n",
              "6 59.99                    23  59761.56    226.74              \n",
              "  Ad Topic Line                         City           Male Country   \n",
              "1 Cloned 5thgeneration orchestration    Wrightburgh    0    Tunisia   \n",
              "2 Monitored national standardization    West Jodi      1    Nauru     \n",
              "3 Organic bottom-line service-desk      Davidton       0    San Marino\n",
              "4 Triple-buffered reciprocal time-frame West Terrifurt 1    Italy     \n",
              "5 Robust logistical utilization         South Manuel   0    Iceland   \n",
              "6 Sharable client-driven software       Jamieberg      1    Norway    \n",
              "  Timestamp           Clicked on Ad\n",
              "1 2016-03-27 00:53:11 0            \n",
              "2 2016-04-04 01:39:02 0            \n",
              "3 2016-03-13 20:35:42 0            \n",
              "4 2016-01-10 02:31:19 0            \n",
              "5 2016-06-03 03:36:18 0            \n",
              "6 2016-05-19 14:30:17 0            "
            ],
            "text/latex": "A data.table: 6 × 10\n\\begin{tabular}{llllllllll}\n Daily Time Spent on Site & Age & Area Income & Daily Internet Usage & Ad Topic Line & City & Male & Country & Timestamp & Clicked on Ad\\\\\n <dbl> & <int> & <dbl> & <dbl> & <chr> & <chr> & <int> & <chr> & <chr> & <int>\\\\\n\\hline\n\t 68.95 & 35 & 61833.90 & 256.09 & Cloned 5thgeneration orchestration    & Wrightburgh    & 0 & Tunisia    & 2016-03-27 00:53:11 & 0\\\\\n\t 80.23 & 31 & 68441.85 & 193.77 & Monitored national standardization    & West Jodi      & 1 & Nauru      & 2016-04-04 01:39:02 & 0\\\\\n\t 69.47 & 26 & 59785.94 & 236.50 & Organic bottom-line service-desk      & Davidton       & 0 & San Marino & 2016-03-13 20:35:42 & 0\\\\\n\t 74.15 & 29 & 54806.18 & 245.89 & Triple-buffered reciprocal time-frame & West Terrifurt & 1 & Italy      & 2016-01-10 02:31:19 & 0\\\\\n\t 68.37 & 35 & 73889.99 & 225.58 & Robust logistical utilization         & South Manuel   & 0 & Iceland    & 2016-06-03 03:36:18 & 0\\\\\n\t 59.99 & 23 & 59761.56 & 226.74 & Sharable client-driven software       & Jamieberg      & 1 & Norway     & 2016-05-19 14:30:17 & 0\\\\\n\\end{tabular}\n",
            "text/markdown": "\nA data.table: 6 × 10\n\n| Daily Time Spent on Site &lt;dbl&gt; | Age &lt;int&gt; | Area Income &lt;dbl&gt; | Daily Internet Usage &lt;dbl&gt; | Ad Topic Line &lt;chr&gt; | City &lt;chr&gt; | Male &lt;int&gt; | Country &lt;chr&gt; | Timestamp &lt;chr&gt; | Clicked on Ad &lt;int&gt; |\n|---|---|---|---|---|---|---|---|---|---|\n| 68.95 | 35 | 61833.90 | 256.09 | Cloned 5thgeneration orchestration    | Wrightburgh    | 0 | Tunisia    | 2016-03-27 00:53:11 | 0 |\n| 80.23 | 31 | 68441.85 | 193.77 | Monitored national standardization    | West Jodi      | 1 | Nauru      | 2016-04-04 01:39:02 | 0 |\n| 69.47 | 26 | 59785.94 | 236.50 | Organic bottom-line service-desk      | Davidton       | 0 | San Marino | 2016-03-13 20:35:42 | 0 |\n| 74.15 | 29 | 54806.18 | 245.89 | Triple-buffered reciprocal time-frame | West Terrifurt | 1 | Italy      | 2016-01-10 02:31:19 | 0 |\n| 68.37 | 35 | 73889.99 | 225.58 | Robust logistical utilization         | South Manuel   | 0 | Iceland    | 2016-06-03 03:36:18 | 0 |\n| 59.99 | 23 | 59761.56 | 226.74 | Sharable client-driven software       | Jamieberg      | 1 | Norway     | 2016-05-19 14:30:17 | 0 |\n\n",
            "text/html": [
              "<table>\n",
              "<caption>A data.table: 6 × 10</caption>\n",
              "<thead>\n",
              "\t<tr><th scope=col>Daily Time Spent on Site</th><th scope=col>Age</th><th scope=col>Area Income</th><th scope=col>Daily Internet Usage</th><th scope=col>Ad Topic Line</th><th scope=col>City</th><th scope=col>Male</th><th scope=col>Country</th><th scope=col>Timestamp</th><th scope=col>Clicked on Ad</th></tr>\n",
              "\t<tr><th scope=col>&lt;dbl&gt;</th><th scope=col>&lt;int&gt;</th><th scope=col>&lt;dbl&gt;</th><th scope=col>&lt;dbl&gt;</th><th scope=col>&lt;chr&gt;</th><th scope=col>&lt;chr&gt;</th><th scope=col>&lt;int&gt;</th><th scope=col>&lt;chr&gt;</th><th scope=col>&lt;chr&gt;</th><th scope=col>&lt;int&gt;</th></tr>\n",
              "</thead>\n",
              "<tbody>\n",
              "\t<tr><td>68.95</td><td>35</td><td>61833.90</td><td>256.09</td><td>Cloned 5thgeneration orchestration   </td><td>Wrightburgh   </td><td>0</td><td>Tunisia   </td><td>2016-03-27 00:53:11</td><td>0</td></tr>\n",
              "\t<tr><td>80.23</td><td>31</td><td>68441.85</td><td>193.77</td><td>Monitored national standardization   </td><td>West Jodi     </td><td>1</td><td>Nauru     </td><td>2016-04-04 01:39:02</td><td>0</td></tr>\n",
              "\t<tr><td>69.47</td><td>26</td><td>59785.94</td><td>236.50</td><td>Organic bottom-line service-desk     </td><td>Davidton      </td><td>0</td><td>San Marino</td><td>2016-03-13 20:35:42</td><td>0</td></tr>\n",
              "\t<tr><td>74.15</td><td>29</td><td>54806.18</td><td>245.89</td><td>Triple-buffered reciprocal time-frame</td><td>West Terrifurt</td><td>1</td><td>Italy     </td><td>2016-01-10 02:31:19</td><td>0</td></tr>\n",
              "\t<tr><td>68.37</td><td>35</td><td>73889.99</td><td>225.58</td><td>Robust logistical utilization        </td><td>South Manuel  </td><td>0</td><td>Iceland   </td><td>2016-06-03 03:36:18</td><td>0</td></tr>\n",
              "\t<tr><td>59.99</td><td>23</td><td>59761.56</td><td>226.74</td><td>Sharable client-driven software      </td><td>Jamieberg     </td><td>1</td><td>Norway    </td><td>2016-05-19 14:30:17</td><td>0</td></tr>\n",
              "</tbody>\n",
              "</table>\n"
            ]
          },
          "metadata": {
            "tags": []
          }
        }
      ]
    },
    {
      "cell_type": "code",
      "metadata": {
        "id": "k3LufKjBFy-p",
        "outputId": "d12bf8ac-2585-4eab-fde4-5d1ef27b3b8d",
        "colab": {
          "base_uri": "https://localhost:8080/",
          "height": 323
        }
      },
      "source": [
        "# Checking the bottom 6 records\n",
        "\n",
        "tail(ad)"
      ],
      "execution_count": null,
      "outputs": [
        {
          "output_type": "display_data",
          "data": {
            "text/plain": [
              "  Daily Time Spent on Site Age Area Income Daily Internet Usage\n",
              "1 43.70                    28  63126.96    173.01              \n",
              "2 72.97                    30  71384.57    208.58              \n",
              "3 51.30                    45  67782.17    134.42              \n",
              "4 51.63                    51  42415.72    120.37              \n",
              "5 55.55                    19  41920.79    187.95              \n",
              "6 45.01                    26  29875.80    178.35              \n",
              "  Ad Topic Line                        City          Male\n",
              "1 Front-line bifurcated ability        Nicholasland  0   \n",
              "2 Fundamental modular algorithm        Duffystad     1   \n",
              "3 Grass-roots cohesive monitoring      New Darlene   1   \n",
              "4 Expanded intangible solution         South Jessica 1   \n",
              "5 Proactive bandwidth-monitored policy West Steven   0   \n",
              "6 Virtual 5thgeneration emulation      Ronniemouth   0   \n",
              "  Country                Timestamp           Clicked on Ad\n",
              "1 Mayotte                2016-04-04 03:57:48 1            \n",
              "2 Lebanon                2016-02-11 21:49:00 1            \n",
              "3 Bosnia and Herzegovina 2016-04-22 02:07:01 1            \n",
              "4 Mongolia               2016-02-01 17:24:57 1            \n",
              "5 Guatemala              2016-03-24 02:35:54 0            \n",
              "6 Brazil                 2016-06-03 21:43:21 1            "
            ],
            "text/latex": "A data.table: 6 × 10\n\\begin{tabular}{llllllllll}\n Daily Time Spent on Site & Age & Area Income & Daily Internet Usage & Ad Topic Line & City & Male & Country & Timestamp & Clicked on Ad\\\\\n <dbl> & <int> & <dbl> & <dbl> & <chr> & <chr> & <int> & <chr> & <chr> & <int>\\\\\n\\hline\n\t 43.70 & 28 & 63126.96 & 173.01 & Front-line bifurcated ability        & Nicholasland  & 0 & Mayotte                & 2016-04-04 03:57:48 & 1\\\\\n\t 72.97 & 30 & 71384.57 & 208.58 & Fundamental modular algorithm        & Duffystad     & 1 & Lebanon                & 2016-02-11 21:49:00 & 1\\\\\n\t 51.30 & 45 & 67782.17 & 134.42 & Grass-roots cohesive monitoring      & New Darlene   & 1 & Bosnia and Herzegovina & 2016-04-22 02:07:01 & 1\\\\\n\t 51.63 & 51 & 42415.72 & 120.37 & Expanded intangible solution         & South Jessica & 1 & Mongolia               & 2016-02-01 17:24:57 & 1\\\\\n\t 55.55 & 19 & 41920.79 & 187.95 & Proactive bandwidth-monitored policy & West Steven   & 0 & Guatemala              & 2016-03-24 02:35:54 & 0\\\\\n\t 45.01 & 26 & 29875.80 & 178.35 & Virtual 5thgeneration emulation      & Ronniemouth   & 0 & Brazil                 & 2016-06-03 21:43:21 & 1\\\\\n\\end{tabular}\n",
            "text/markdown": "\nA data.table: 6 × 10\n\n| Daily Time Spent on Site &lt;dbl&gt; | Age &lt;int&gt; | Area Income &lt;dbl&gt; | Daily Internet Usage &lt;dbl&gt; | Ad Topic Line &lt;chr&gt; | City &lt;chr&gt; | Male &lt;int&gt; | Country &lt;chr&gt; | Timestamp &lt;chr&gt; | Clicked on Ad &lt;int&gt; |\n|---|---|---|---|---|---|---|---|---|---|\n| 43.70 | 28 | 63126.96 | 173.01 | Front-line bifurcated ability        | Nicholasland  | 0 | Mayotte                | 2016-04-04 03:57:48 | 1 |\n| 72.97 | 30 | 71384.57 | 208.58 | Fundamental modular algorithm        | Duffystad     | 1 | Lebanon                | 2016-02-11 21:49:00 | 1 |\n| 51.30 | 45 | 67782.17 | 134.42 | Grass-roots cohesive monitoring      | New Darlene   | 1 | Bosnia and Herzegovina | 2016-04-22 02:07:01 | 1 |\n| 51.63 | 51 | 42415.72 | 120.37 | Expanded intangible solution         | South Jessica | 1 | Mongolia               | 2016-02-01 17:24:57 | 1 |\n| 55.55 | 19 | 41920.79 | 187.95 | Proactive bandwidth-monitored policy | West Steven   | 0 | Guatemala              | 2016-03-24 02:35:54 | 0 |\n| 45.01 | 26 | 29875.80 | 178.35 | Virtual 5thgeneration emulation      | Ronniemouth   | 0 | Brazil                 | 2016-06-03 21:43:21 | 1 |\n\n",
            "text/html": [
              "<table>\n",
              "<caption>A data.table: 6 × 10</caption>\n",
              "<thead>\n",
              "\t<tr><th scope=col>Daily Time Spent on Site</th><th scope=col>Age</th><th scope=col>Area Income</th><th scope=col>Daily Internet Usage</th><th scope=col>Ad Topic Line</th><th scope=col>City</th><th scope=col>Male</th><th scope=col>Country</th><th scope=col>Timestamp</th><th scope=col>Clicked on Ad</th></tr>\n",
              "\t<tr><th scope=col>&lt;dbl&gt;</th><th scope=col>&lt;int&gt;</th><th scope=col>&lt;dbl&gt;</th><th scope=col>&lt;dbl&gt;</th><th scope=col>&lt;chr&gt;</th><th scope=col>&lt;chr&gt;</th><th scope=col>&lt;int&gt;</th><th scope=col>&lt;chr&gt;</th><th scope=col>&lt;chr&gt;</th><th scope=col>&lt;int&gt;</th></tr>\n",
              "</thead>\n",
              "<tbody>\n",
              "\t<tr><td>43.70</td><td>28</td><td>63126.96</td><td>173.01</td><td>Front-line bifurcated ability       </td><td>Nicholasland </td><td>0</td><td>Mayotte               </td><td>2016-04-04 03:57:48</td><td>1</td></tr>\n",
              "\t<tr><td>72.97</td><td>30</td><td>71384.57</td><td>208.58</td><td>Fundamental modular algorithm       </td><td>Duffystad    </td><td>1</td><td>Lebanon               </td><td>2016-02-11 21:49:00</td><td>1</td></tr>\n",
              "\t<tr><td>51.30</td><td>45</td><td>67782.17</td><td>134.42</td><td>Grass-roots cohesive monitoring     </td><td>New Darlene  </td><td>1</td><td>Bosnia and Herzegovina</td><td>2016-04-22 02:07:01</td><td>1</td></tr>\n",
              "\t<tr><td>51.63</td><td>51</td><td>42415.72</td><td>120.37</td><td>Expanded intangible solution        </td><td>South Jessica</td><td>1</td><td>Mongolia              </td><td>2016-02-01 17:24:57</td><td>1</td></tr>\n",
              "\t<tr><td>55.55</td><td>19</td><td>41920.79</td><td>187.95</td><td>Proactive bandwidth-monitored policy</td><td>West Steven  </td><td>0</td><td>Guatemala             </td><td>2016-03-24 02:35:54</td><td>0</td></tr>\n",
              "\t<tr><td>45.01</td><td>26</td><td>29875.80</td><td>178.35</td><td>Virtual 5thgeneration emulation     </td><td>Ronniemouth  </td><td>0</td><td>Brazil                </td><td>2016-06-03 21:43:21</td><td>1</td></tr>\n",
              "</tbody>\n",
              "</table>\n"
            ]
          },
          "metadata": {
            "tags": []
          }
        }
      ]
    },
    {
      "cell_type": "code",
      "metadata": {
        "id": "mOIt3y8DJqcz",
        "outputId": "06b75daf-fc90-44a2-e0d6-26b65db56533",
        "colab": {
          "base_uri": "https://localhost:8080/",
          "height": 34
        }
      },
      "source": [
        "# Checking the total number of records\n",
        "\n",
        "nrow(ad)"
      ],
      "execution_count": null,
      "outputs": [
        {
          "output_type": "display_data",
          "data": {
            "text/plain": [
              "[1] 1000"
            ],
            "text/latex": "1000",
            "text/markdown": "1000",
            "text/html": [
              "1000"
            ]
          },
          "metadata": {
            "tags": []
          }
        }
      ]
    },
    {
      "cell_type": "code",
      "metadata": {
        "id": "EVmoMmszKNS_",
        "outputId": "5a438a8a-d9cb-41a6-fe51-e7aa0760957b",
        "colab": {
          "base_uri": "https://localhost:8080/"
        }
      },
      "source": [
        "# Checking the data types of each column\n",
        "\n",
        "str(ad)"
      ],
      "execution_count": null,
      "outputs": [
        {
          "output_type": "stream",
          "text": [
            "Classes ‘data.table’ and 'data.frame':\t1000 obs. of  10 variables:\n",
            " $ Daily Time Spent on Site: num  69 80.2 69.5 74.2 68.4 ...\n",
            " $ Age                     : int  35 31 26 29 35 23 33 48 30 20 ...\n",
            " $ Area Income             : num  61834 68442 59786 54806 73890 ...\n",
            " $ Daily Internet Usage    : num  256 194 236 246 226 ...\n",
            " $ Ad Topic Line           : chr  \"Cloned 5thgeneration orchestration\" \"Monitored national standardization\" \"Organic bottom-line service-desk\" \"Triple-buffered reciprocal time-frame\" ...\n",
            " $ City                    : chr  \"Wrightburgh\" \"West Jodi\" \"Davidton\" \"West Terrifurt\" ...\n",
            " $ Male                    : int  0 1 0 1 0 1 0 1 1 1 ...\n",
            " $ Country                 : chr  \"Tunisia\" \"Nauru\" \"San Marino\" \"Italy\" ...\n",
            " $ Timestamp               : chr  \"2016-03-27 00:53:11\" \"2016-04-04 01:39:02\" \"2016-03-13 20:35:42\" \"2016-01-10 02:31:19\" ...\n",
            " $ Clicked on Ad           : int  0 0 0 0 0 0 0 1 0 0 ...\n",
            " - attr(*, \".internal.selfref\")=<externalptr> \n"
          ],
          "name": "stdout"
        }
      ]
    },
    {
      "cell_type": "code",
      "metadata": {
        "id": "vvAhGeXfLAZk",
        "outputId": "9362f4ba-b7e6-4840-fa7e-d7325099e681",
        "colab": {
          "base_uri": "https://localhost:8080/",
          "height": 51
        }
      },
      "source": [
        "# Checking the number of unique values in each column\n",
        "\n",
        "lengths(lapply(ad, unique))"
      ],
      "execution_count": null,
      "outputs": [
        {
          "output_type": "display_data",
          "data": {
            "text/plain": [
              "Daily Time Spent on Site                      Age              Area Income \n",
              "                     900                       43                     1000 \n",
              "    Daily Internet Usage            Ad Topic Line                     City \n",
              "                     966                     1000                      969 \n",
              "                    Male                  Country                Timestamp \n",
              "                       2                      237                     1000 \n",
              "           Clicked on Ad \n",
              "                       2 "
            ],
            "text/latex": "\\begin{description*}\n\\item[Daily Time Spent on Site] 900\n\\item[Age] 43\n\\item[Area Income] 1000\n\\item[Daily Internet Usage] 966\n\\item[Ad Topic Line] 1000\n\\item[City] 969\n\\item[Male] 2\n\\item[Country] 237\n\\item[Timestamp] 1000\n\\item[Clicked on Ad] 2\n\\end{description*}\n",
            "text/markdown": "Daily Time Spent on Site\n:   900Age\n:   43Area Income\n:   1000Daily Internet Usage\n:   966Ad Topic Line\n:   1000City\n:   969Male\n:   2Country\n:   237Timestamp\n:   1000Clicked on Ad\n:   2\n\n",
            "text/html": [
              "<style>\n",
              ".dl-inline {width: auto; margin:0; padding: 0}\n",
              ".dl-inline>dt, .dl-inline>dd {float: none; width: auto; display: inline-block}\n",
              ".dl-inline>dt::after {content: \":\\0020\"; padding-right: .5ex}\n",
              ".dl-inline>dt:not(:first-of-type) {padding-left: .5ex}\n",
              "</style><dl class=dl-inline><dt>Daily Time Spent on Site</dt><dd>900</dd><dt>Age</dt><dd>43</dd><dt>Area Income</dt><dd>1000</dd><dt>Daily Internet Usage</dt><dd>966</dd><dt>Ad Topic Line</dt><dd>1000</dd><dt>City</dt><dd>969</dd><dt>Male</dt><dd>2</dd><dt>Country</dt><dd>237</dd><dt>Timestamp</dt><dd>1000</dd><dt>Clicked on Ad</dt><dd>2</dd></dl>\n"
            ]
          },
          "metadata": {
            "tags": []
          }
        }
      ]
    },
    {
      "cell_type": "code",
      "metadata": {
        "id": "67oN6HN9MmsV"
      },
      "source": [
        "# Load columns into unique vectors\n",
        "\n",
        "daily_time_spent <- ad$`Daily Time Spent on Site`\n",
        "age <- ad$Age\n",
        "area_income <- ad$`Area Income`\n",
        "daily_internet_usage <- ad$`Daily Internet Usage`\n",
        "ad_topic_line <- ad$`Ad Topic Line`\n",
        "city <- ad$City\n",
        "gender <- ad$Male\n",
        "country <- ad$Country\n",
        "timestamp <- ad$Timestamp\n",
        "clicked_on_ad <- ad$`Clicked on Ad`"
      ],
      "execution_count": null,
      "outputs": []
    },
    {
      "cell_type": "markdown",
      "metadata": {
        "id": "AtDx_UGnOME1"
      },
      "source": [
        "# Data Cleaning"
      ]
    },
    {
      "cell_type": "markdown",
      "metadata": {
        "id": "iQIfX-YLEpuQ"
      },
      "source": [
        "Missing Data"
      ]
    },
    {
      "cell_type": "code",
      "metadata": {
        "id": "7XJjGLLIPQEs",
        "outputId": "5dd00da3-f02f-44da-e9ed-6f8ad928e75b",
        "colab": {
          "base_uri": "https://localhost:8080/",
          "height": 51
        }
      },
      "source": [
        "# Checking the existence of missing values\n",
        "\n",
        "colSums(is.na(ad))"
      ],
      "execution_count": null,
      "outputs": [
        {
          "output_type": "display_data",
          "data": {
            "text/plain": [
              "Daily Time Spent on Site                      Age              Area Income \n",
              "                       0                        0                        0 \n",
              "    Daily Internet Usage            Ad Topic Line                     City \n",
              "                       0                        0                        0 \n",
              "                    Male                  Country                Timestamp \n",
              "                       0                        0                        0 \n",
              "           Clicked on Ad \n",
              "                       0 "
            ],
            "text/latex": "\\begin{description*}\n\\item[Daily Time Spent on Site] 0\n\\item[Age] 0\n\\item[Area Income] 0\n\\item[Daily Internet Usage] 0\n\\item[Ad Topic Line] 0\n\\item[City] 0\n\\item[Male] 0\n\\item[Country] 0\n\\item[Timestamp] 0\n\\item[Clicked on Ad] 0\n\\end{description*}\n",
            "text/markdown": "Daily Time Spent on Site\n:   0Age\n:   0Area Income\n:   0Daily Internet Usage\n:   0Ad Topic Line\n:   0City\n:   0Male\n:   0Country\n:   0Timestamp\n:   0Clicked on Ad\n:   0\n\n",
            "text/html": [
              "<style>\n",
              ".dl-inline {width: auto; margin:0; padding: 0}\n",
              ".dl-inline>dt, .dl-inline>dd {float: none; width: auto; display: inline-block}\n",
              ".dl-inline>dt::after {content: \":\\0020\"; padding-right: .5ex}\n",
              ".dl-inline>dt:not(:first-of-type) {padding-left: .5ex}\n",
              "</style><dl class=dl-inline><dt>Daily Time Spent on Site</dt><dd>0</dd><dt>Age</dt><dd>0</dd><dt>Area Income</dt><dd>0</dd><dt>Daily Internet Usage</dt><dd>0</dd><dt>Ad Topic Line</dt><dd>0</dd><dt>City</dt><dd>0</dd><dt>Male</dt><dd>0</dd><dt>Country</dt><dd>0</dd><dt>Timestamp</dt><dd>0</dd><dt>Clicked on Ad</dt><dd>0</dd></dl>\n"
            ]
          },
          "metadata": {
            "tags": []
          }
        }
      ]
    },
    {
      "cell_type": "markdown",
      "metadata": {
        "id": "FtTiX57rPmi8"
      },
      "source": [
        "- No missing values in any columns of the dataframe"
      ]
    },
    {
      "cell_type": "code",
      "metadata": {
        "id": "GKhmKIVrP7u2",
        "outputId": "307e62ad-5792-4c00-e9e8-2aed764a2f6c",
        "colab": {
          "base_uri": "https://localhost:8080/",
          "height": 1000
        }
      },
      "source": [
        "na.omit(ad)"
      ],
      "execution_count": null,
      "outputs": [
        {
          "output_type": "display_data",
          "data": {
            "text/plain": [
              "     Daily Time Spent on Site Age Area Income Daily Internet Usage\n",
              "1    68.95                    35  61833.90    256.09              \n",
              "2    80.23                    31  68441.85    193.77              \n",
              "3    69.47                    26  59785.94    236.50              \n",
              "4    74.15                    29  54806.18    245.89              \n",
              "5    68.37                    35  73889.99    225.58              \n",
              "6    59.99                    23  59761.56    226.74              \n",
              "7    88.91                    33  53852.85    208.36              \n",
              "8    66.00                    48  24593.33    131.76              \n",
              "9    74.53                    30  68862.00    221.51              \n",
              "10   69.88                    20  55642.32    183.82              \n",
              "11   47.64                    49  45632.51    122.02              \n",
              "12   83.07                    37  62491.01    230.87              \n",
              "13   69.57                    48  51636.92    113.12              \n",
              "14   79.52                    24  51739.63    214.23              \n",
              "15   42.95                    33  30976.00    143.56              \n",
              "16   63.45                    23  52182.23    140.64              \n",
              "17   55.39                    37  23936.86    129.41              \n",
              "18   82.03                    41  71511.08    187.53              \n",
              "19   54.70                    36  31087.54    118.39              \n",
              "20   74.58                    40  23821.72    135.51              \n",
              "21   77.22                    30  64802.33    224.44              \n",
              "22   84.59                    35  60015.57    226.54              \n",
              "23   41.49                    52  32635.70    164.83              \n",
              "24   87.29                    36  61628.72    209.93              \n",
              "25   41.39                    41  68962.32    167.22              \n",
              "26   78.74                    28  64828.00    204.79              \n",
              "27   48.53                    28  38067.08    134.14              \n",
              "28   51.95                    52  58295.82    129.23              \n",
              "29   70.20                    34  32708.94    119.20              \n",
              "30   76.02                    22  46179.97    209.82              \n",
              "⋮    ⋮                        ⋮   ⋮           ⋮                   \n",
              "971  40.18                    29  50760.23    151.96              \n",
              "972  45.17                    48  34418.09    132.07              \n",
              "973  50.48                    50  20592.99    162.43              \n",
              "974  80.87                    28  63528.80    203.30              \n",
              "975  41.88                    40  44217.68    126.11              \n",
              "976  39.87                    48  47929.83    139.34              \n",
              "977  61.84                    45  46024.29    105.63              \n",
              "978  54.97                    31  51900.03    116.38              \n",
              "979  71.40                    30  72188.90    166.31              \n",
              "980  70.29                    31  56974.51    254.65              \n",
              "981  67.26                    57  25682.65    168.41              \n",
              "982  76.58                    46  41884.64    258.26              \n",
              "983  54.37                    38  72196.29    140.77              \n",
              "984  82.79                    32  54429.17    234.81              \n",
              "985  66.47                    31  58037.66    256.39              \n",
              "986  72.88                    44  64011.26    125.12              \n",
              "987  76.44                    28  59967.19    232.68              \n",
              "988  63.37                    43  43155.19    105.04              \n",
              "989  89.71                    48  51501.38    204.40              \n",
              "990  70.96                    31  55187.85    256.40              \n",
              "991  35.79                    44  33813.08    165.62              \n",
              "992  38.96                    38  36497.22    140.67              \n",
              "993  69.17                    40  66193.81    123.62              \n",
              "994  64.20                    27  66200.96    227.63              \n",
              "995  43.70                    28  63126.96    173.01              \n",
              "996  72.97                    30  71384.57    208.58              \n",
              "997  51.30                    45  67782.17    134.42              \n",
              "998  51.63                    51  42415.72    120.37              \n",
              "999  55.55                    19  41920.79    187.95              \n",
              "1000 45.01                    26  29875.80    178.35              \n",
              "     Ad Topic Line                                 City              Male\n",
              "1    Cloned 5thgeneration orchestration            Wrightburgh       0   \n",
              "2    Monitored national standardization            West Jodi         1   \n",
              "3    Organic bottom-line service-desk              Davidton          0   \n",
              "4    Triple-buffered reciprocal time-frame         West Terrifurt    1   \n",
              "5    Robust logistical utilization                 South Manuel      0   \n",
              "6    Sharable client-driven software               Jamieberg         1   \n",
              "7    Enhanced dedicated support                    Brandonstad       0   \n",
              "8    Reactive local challenge                      Port Jefferybury  1   \n",
              "9    Configurable coherent function                West Colin        1   \n",
              "10   Mandatory homogeneous architecture            Ramirezton        1   \n",
              "11   Centralized neutral neural-net                West Brandonton   0   \n",
              "12   Team-oriented grid-enabled Local Area Network East Theresashire 1   \n",
              "13   Centralized content-based focus group         West Katiefurt    1   \n",
              "14   Synergistic fresh-thinking array              North Tara        0   \n",
              "15   Grass-roots coherent extranet                 West William      0   \n",
              "16   Persistent demand-driven interface            New Travistown    1   \n",
              "17   Customizable multi-tasking website            West Dylanberg    0   \n",
              "18   Intuitive dynamic attitude                    Pruittmouth       0   \n",
              "19   Grass-roots solution-oriented conglomeration  Jessicastad       1   \n",
              "20   Advanced 24/7 productivity                    Millertown        1   \n",
              "21   Object-based reciprocal knowledgebase         Port Jacqueline   1   \n",
              "22   Streamlined non-volatile analyzer             Lake Nicole       1   \n",
              "23   Mandatory disintermediate utilization         South John        0   \n",
              "24   Future-proofed methodical protocol            Pamelamouth       1   \n",
              "25   Exclusive neutral parallelism                 Harperborough     0   \n",
              "26   Public-key foreground groupware               Port Danielleberg 1   \n",
              "27   Ameliorated client-driven forecast            West Jeremyside   1   \n",
              "28   Monitored systematic hierarchy                South Cathyfurt   0   \n",
              "29   Open-architected impactful productivity       Palmerside        0   \n",
              "30   Business-focused value-added definition       West Guybury      0   \n",
              "⋮    ⋮                                             ⋮                 ⋮   \n",
              "971  Enhanced intangible portal                    Lake Tracy        0   \n",
              "972  Down-sized background groupware               Taylormouth       1   \n",
              "973  Switchable real-time product                  Dianaville        0   \n",
              "974  Ameliorated local workforce                   Collinsburgh      0   \n",
              "975  Streamlined exuding adapter                   Port Rachel       1   \n",
              "976  Business-focused user-facing benchmark        South Rebecca     1   \n",
              "977  Reactive bi-directional standardization       Port Joshuafort   1   \n",
              "978  Virtual bifurcated portal                     Robinsontown      1   \n",
              "979  Integrated 3rdgeneration monitoring           Beckton           0   \n",
              "980  Balanced responsive open system               New Frankshire    1   \n",
              "981  Focused incremental Graphic Interface         North Derekville  1   \n",
              "982  Secured 24hour policy                         West Sydney       0   \n",
              "983  Up-sized asymmetric firmware                  Lake Matthew      0   \n",
              "984  Distributed fault-tolerant service-desk       Lake Zacharyfurt  1   \n",
              "985  Vision-oriented human-resource synergy        Lindsaymouth      1   \n",
              "986  Customer-focused explicit challenge           Sarahland         0   \n",
              "987  Synchronized human-resource moderator         Port Julie        1   \n",
              "988  Open-architected full-range projection        Michaelshire      1   \n",
              "989  Versatile local forecast                      Sarafurt          1   \n",
              "990  Ameliorated user-facing help-desk             South Denise      0   \n",
              "991  Enterprise-wide tangible model                North Katie       1   \n",
              "992  Versatile mission-critical application        Mauricefurt       1   \n",
              "993  Extended leadingedge solution                 New Patrick       0   \n",
              "994  Phased zero tolerance extranet                Edwardsmouth      1   \n",
              "995  Front-line bifurcated ability                 Nicholasland      0   \n",
              "996  Fundamental modular algorithm                 Duffystad         1   \n",
              "997  Grass-roots cohesive monitoring               New Darlene       1   \n",
              "998  Expanded intangible solution                  South Jessica     1   \n",
              "999  Proactive bandwidth-monitored policy          West Steven       0   \n",
              "1000 Virtual 5thgeneration emulation               Ronniemouth       0   \n",
              "     Country                                             Timestamp          \n",
              "1    Tunisia                                             2016-03-27 00:53:11\n",
              "2    Nauru                                               2016-04-04 01:39:02\n",
              "3    San Marino                                          2016-03-13 20:35:42\n",
              "4    Italy                                               2016-01-10 02:31:19\n",
              "5    Iceland                                             2016-06-03 03:36:18\n",
              "6    Norway                                              2016-05-19 14:30:17\n",
              "7    Myanmar                                             2016-01-28 20:59:32\n",
              "8    Australia                                           2016-03-07 01:40:15\n",
              "9    Grenada                                             2016-04-18 09:33:42\n",
              "10   Ghana                                               2016-07-11 01:42:51\n",
              "11   Qatar                                               2016-03-16 20:19:01\n",
              "12   Burundi                                             2016-05-08 08:10:10\n",
              "13   Egypt                                               2016-06-03 01:14:41\n",
              "14   Bosnia and Herzegovina                              2016-04-20 21:49:22\n",
              "15   Barbados                                            2016-03-24 09:31:49\n",
              "16   Spain                                               2016-03-09 03:41:30\n",
              "17   Palestinian Territory                               2016-01-30 19:20:41\n",
              "18   Afghanistan                                         2016-05-02 07:00:58\n",
              "19   British Indian Ocean Territory (Chagos Archipelago) 2016-02-13 07:53:55\n",
              "20   Russian Federation                                  2016-02-27 04:43:07\n",
              "21   Cameroon                                            2016-01-05 07:52:48\n",
              "22   Cameroon                                            2016-03-18 13:22:35\n",
              "23   Burundi                                             2016-05-20 08:49:33\n",
              "24   Korea                                               2016-03-23 09:43:43\n",
              "25   Tokelau                                             2016-06-13 17:27:09\n",
              "26   Monaco                                              2016-05-27 15:25:52\n",
              "27   Tuvalu                                              2016-02-08 10:46:14\n",
              "28   Greece                                              2016-07-19 08:32:10\n",
              "29   British Virgin Islands                              2016-04-14 05:08:35\n",
              "30   Bouvet Island (Bouvetoya)                           2016-01-27 12:38:16\n",
              "⋮    ⋮                                                   ⋮                  \n",
              "971  Hong Kong                                           2016-06-25 04:21:33\n",
              "972  Palau                                               2016-01-27 14:41:10\n",
              "973  Malawi                                              2016-05-16 18:51:59\n",
              "974  Uruguay                                             2016-02-27 20:20:25\n",
              "975  Cyprus                                              2016-02-28 23:54:44\n",
              "976  Mexico                                              2016-06-13 06:11:33\n",
              "977  Niger                                               2016-05-05 11:07:13\n",
              "978  France                                              2016-07-07 12:17:33\n",
              "979  Japan                                               2016-05-24 17:07:08\n",
              "980  Norfolk Island                                      2016-03-30 14:36:55\n",
              "981  Bulgaria                                            2016-05-27 05:54:03\n",
              "982  Uzbekistan                                          2016-01-03 16:30:51\n",
              "983  Mexico                                              2016-06-25 18:17:53\n",
              "984  Brunei Darussalam                                   2016-02-24 10:36:43\n",
              "985  France                                              2016-03-03 03:13:48\n",
              "986  Yemen                                               2016-04-21 19:56:24\n",
              "987  Northern Mariana Islands                            2016-04-06 17:26:37\n",
              "988  Poland                                              2016-03-23 12:53:23\n",
              "989  Bahrain                                             2016-02-17 07:00:38\n",
              "990  Saint Pierre and Miquelon                           2016-06-26 07:01:47\n",
              "991  Tonga                                               2016-04-20 13:36:42\n",
              "992  Comoros                                             2016-07-21 16:02:40\n",
              "993  Montenegro                                          2016-03-06 11:36:06\n",
              "994  Isle of Man                                         2016-02-11 23:45:01\n",
              "995  Mayotte                                             2016-04-04 03:57:48\n",
              "996  Lebanon                                             2016-02-11 21:49:00\n",
              "997  Bosnia and Herzegovina                              2016-04-22 02:07:01\n",
              "998  Mongolia                                            2016-02-01 17:24:57\n",
              "999  Guatemala                                           2016-03-24 02:35:54\n",
              "1000 Brazil                                              2016-06-03 21:43:21\n",
              "     Clicked on Ad\n",
              "1    0            \n",
              "2    0            \n",
              "3    0            \n",
              "4    0            \n",
              "5    0            \n",
              "6    0            \n",
              "7    0            \n",
              "8    1            \n",
              "9    0            \n",
              "10   0            \n",
              "11   1            \n",
              "12   0            \n",
              "13   1            \n",
              "14   0            \n",
              "15   1            \n",
              "16   1            \n",
              "17   1            \n",
              "18   0            \n",
              "19   1            \n",
              "20   1            \n",
              "21   0            \n",
              "22   0            \n",
              "23   1            \n",
              "24   0            \n",
              "25   1            \n",
              "26   0            \n",
              "27   1            \n",
              "28   1            \n",
              "29   1            \n",
              "30   0            \n",
              "⋮    ⋮            \n",
              "971  1            \n",
              "972  1            \n",
              "973  1            \n",
              "974  0            \n",
              "975  1            \n",
              "976  1            \n",
              "977  1            \n",
              "978  1            \n",
              "979  0            \n",
              "980  0            \n",
              "981  1            \n",
              "982  0            \n",
              "983  1            \n",
              "984  0            \n",
              "985  0            \n",
              "986  1            \n",
              "987  0            \n",
              "988  1            \n",
              "989  0            \n",
              "990  0            \n",
              "991  1            \n",
              "992  1            \n",
              "993  1            \n",
              "994  0            \n",
              "995  1            \n",
              "996  1            \n",
              "997  1            \n",
              "998  1            \n",
              "999  0            \n",
              "1000 1            "
            ],
            "text/latex": "A data.table: 1000 × 10\n\\begin{tabular}{llllllllll}\n Daily Time Spent on Site & Age & Area Income & Daily Internet Usage & Ad Topic Line & City & Male & Country & Timestamp & Clicked on Ad\\\\\n <dbl> & <int> & <dbl> & <dbl> & <chr> & <chr> & <int> & <chr> & <chr> & <int>\\\\\n\\hline\n\t 68.95 & 35 & 61833.90 & 256.09 & Cloned 5thgeneration orchestration            & Wrightburgh       & 0 & Tunisia                                             & 2016-03-27 00:53:11 & 0\\\\\n\t 80.23 & 31 & 68441.85 & 193.77 & Monitored national standardization            & West Jodi         & 1 & Nauru                                               & 2016-04-04 01:39:02 & 0\\\\\n\t 69.47 & 26 & 59785.94 & 236.50 & Organic bottom-line service-desk              & Davidton          & 0 & San Marino                                          & 2016-03-13 20:35:42 & 0\\\\\n\t 74.15 & 29 & 54806.18 & 245.89 & Triple-buffered reciprocal time-frame         & West Terrifurt    & 1 & Italy                                               & 2016-01-10 02:31:19 & 0\\\\\n\t 68.37 & 35 & 73889.99 & 225.58 & Robust logistical utilization                 & South Manuel      & 0 & Iceland                                             & 2016-06-03 03:36:18 & 0\\\\\n\t 59.99 & 23 & 59761.56 & 226.74 & Sharable client-driven software               & Jamieberg         & 1 & Norway                                              & 2016-05-19 14:30:17 & 0\\\\\n\t 88.91 & 33 & 53852.85 & 208.36 & Enhanced dedicated support                    & Brandonstad       & 0 & Myanmar                                             & 2016-01-28 20:59:32 & 0\\\\\n\t 66.00 & 48 & 24593.33 & 131.76 & Reactive local challenge                      & Port Jefferybury  & 1 & Australia                                           & 2016-03-07 01:40:15 & 1\\\\\n\t 74.53 & 30 & 68862.00 & 221.51 & Configurable coherent function                & West Colin        & 1 & Grenada                                             & 2016-04-18 09:33:42 & 0\\\\\n\t 69.88 & 20 & 55642.32 & 183.82 & Mandatory homogeneous architecture            & Ramirezton        & 1 & Ghana                                               & 2016-07-11 01:42:51 & 0\\\\\n\t 47.64 & 49 & 45632.51 & 122.02 & Centralized neutral neural-net                & West Brandonton   & 0 & Qatar                                               & 2016-03-16 20:19:01 & 1\\\\\n\t 83.07 & 37 & 62491.01 & 230.87 & Team-oriented grid-enabled Local Area Network & East Theresashire & 1 & Burundi                                             & 2016-05-08 08:10:10 & 0\\\\\n\t 69.57 & 48 & 51636.92 & 113.12 & Centralized content-based focus group         & West Katiefurt    & 1 & Egypt                                               & 2016-06-03 01:14:41 & 1\\\\\n\t 79.52 & 24 & 51739.63 & 214.23 & Synergistic fresh-thinking array              & North Tara        & 0 & Bosnia and Herzegovina                              & 2016-04-20 21:49:22 & 0\\\\\n\t 42.95 & 33 & 30976.00 & 143.56 & Grass-roots coherent extranet                 & West William      & 0 & Barbados                                            & 2016-03-24 09:31:49 & 1\\\\\n\t 63.45 & 23 & 52182.23 & 140.64 & Persistent demand-driven interface            & New Travistown    & 1 & Spain                                               & 2016-03-09 03:41:30 & 1\\\\\n\t 55.39 & 37 & 23936.86 & 129.41 & Customizable multi-tasking website            & West Dylanberg    & 0 & Palestinian Territory                               & 2016-01-30 19:20:41 & 1\\\\\n\t 82.03 & 41 & 71511.08 & 187.53 & Intuitive dynamic attitude                    & Pruittmouth       & 0 & Afghanistan                                         & 2016-05-02 07:00:58 & 0\\\\\n\t 54.70 & 36 & 31087.54 & 118.39 & Grass-roots solution-oriented conglomeration  & Jessicastad       & 1 & British Indian Ocean Territory (Chagos Archipelago) & 2016-02-13 07:53:55 & 1\\\\\n\t 74.58 & 40 & 23821.72 & 135.51 & Advanced 24/7 productivity                    & Millertown        & 1 & Russian Federation                                  & 2016-02-27 04:43:07 & 1\\\\\n\t 77.22 & 30 & 64802.33 & 224.44 & Object-based reciprocal knowledgebase         & Port Jacqueline   & 1 & Cameroon                                            & 2016-01-05 07:52:48 & 0\\\\\n\t 84.59 & 35 & 60015.57 & 226.54 & Streamlined non-volatile analyzer             & Lake Nicole       & 1 & Cameroon                                            & 2016-03-18 13:22:35 & 0\\\\\n\t 41.49 & 52 & 32635.70 & 164.83 & Mandatory disintermediate utilization         & South John        & 0 & Burundi                                             & 2016-05-20 08:49:33 & 1\\\\\n\t 87.29 & 36 & 61628.72 & 209.93 & Future-proofed methodical protocol            & Pamelamouth       & 1 & Korea                                               & 2016-03-23 09:43:43 & 0\\\\\n\t 41.39 & 41 & 68962.32 & 167.22 & Exclusive neutral parallelism                 & Harperborough     & 0 & Tokelau                                             & 2016-06-13 17:27:09 & 1\\\\\n\t 78.74 & 28 & 64828.00 & 204.79 & Public-key foreground groupware               & Port Danielleberg & 1 & Monaco                                              & 2016-05-27 15:25:52 & 0\\\\\n\t 48.53 & 28 & 38067.08 & 134.14 & Ameliorated client-driven forecast            & West Jeremyside   & 1 & Tuvalu                                              & 2016-02-08 10:46:14 & 1\\\\\n\t 51.95 & 52 & 58295.82 & 129.23 & Monitored systematic hierarchy                & South Cathyfurt   & 0 & Greece                                              & 2016-07-19 08:32:10 & 1\\\\\n\t 70.20 & 34 & 32708.94 & 119.20 & Open-architected impactful productivity       & Palmerside        & 0 & British Virgin Islands                              & 2016-04-14 05:08:35 & 1\\\\\n\t 76.02 & 22 & 46179.97 & 209.82 & Business-focused value-added definition       & West Guybury      & 0 & Bouvet Island (Bouvetoya)                           & 2016-01-27 12:38:16 & 0\\\\\n\t ⋮ & ⋮ & ⋮ & ⋮ & ⋮ & ⋮ & ⋮ & ⋮ & ⋮ & ⋮\\\\\n\t 40.18 & 29 & 50760.23 & 151.96 & Enhanced intangible portal              & Lake Tracy       & 0 & Hong Kong                 & 2016-06-25 04:21:33 & 1\\\\\n\t 45.17 & 48 & 34418.09 & 132.07 & Down-sized background groupware         & Taylormouth      & 1 & Palau                     & 2016-01-27 14:41:10 & 1\\\\\n\t 50.48 & 50 & 20592.99 & 162.43 & Switchable real-time product            & Dianaville       & 0 & Malawi                    & 2016-05-16 18:51:59 & 1\\\\\n\t 80.87 & 28 & 63528.80 & 203.30 & Ameliorated local workforce             & Collinsburgh     & 0 & Uruguay                   & 2016-02-27 20:20:25 & 0\\\\\n\t 41.88 & 40 & 44217.68 & 126.11 & Streamlined exuding adapter             & Port Rachel      & 1 & Cyprus                    & 2016-02-28 23:54:44 & 1\\\\\n\t 39.87 & 48 & 47929.83 & 139.34 & Business-focused user-facing benchmark  & South Rebecca    & 1 & Mexico                    & 2016-06-13 06:11:33 & 1\\\\\n\t 61.84 & 45 & 46024.29 & 105.63 & Reactive bi-directional standardization & Port Joshuafort  & 1 & Niger                     & 2016-05-05 11:07:13 & 1\\\\\n\t 54.97 & 31 & 51900.03 & 116.38 & Virtual bifurcated portal               & Robinsontown     & 1 & France                    & 2016-07-07 12:17:33 & 1\\\\\n\t 71.40 & 30 & 72188.90 & 166.31 & Integrated 3rdgeneration monitoring     & Beckton          & 0 & Japan                     & 2016-05-24 17:07:08 & 0\\\\\n\t 70.29 & 31 & 56974.51 & 254.65 & Balanced responsive open system         & New Frankshire   & 1 & Norfolk Island            & 2016-03-30 14:36:55 & 0\\\\\n\t 67.26 & 57 & 25682.65 & 168.41 & Focused incremental Graphic Interface   & North Derekville & 1 & Bulgaria                  & 2016-05-27 05:54:03 & 1\\\\\n\t 76.58 & 46 & 41884.64 & 258.26 & Secured 24hour policy                   & West Sydney      & 0 & Uzbekistan                & 2016-01-03 16:30:51 & 0\\\\\n\t 54.37 & 38 & 72196.29 & 140.77 & Up-sized asymmetric firmware            & Lake Matthew     & 0 & Mexico                    & 2016-06-25 18:17:53 & 1\\\\\n\t 82.79 & 32 & 54429.17 & 234.81 & Distributed fault-tolerant service-desk & Lake Zacharyfurt & 1 & Brunei Darussalam         & 2016-02-24 10:36:43 & 0\\\\\n\t 66.47 & 31 & 58037.66 & 256.39 & Vision-oriented human-resource synergy  & Lindsaymouth     & 1 & France                    & 2016-03-03 03:13:48 & 0\\\\\n\t 72.88 & 44 & 64011.26 & 125.12 & Customer-focused explicit challenge     & Sarahland        & 0 & Yemen                     & 2016-04-21 19:56:24 & 1\\\\\n\t 76.44 & 28 & 59967.19 & 232.68 & Synchronized human-resource moderator   & Port Julie       & 1 & Northern Mariana Islands  & 2016-04-06 17:26:37 & 0\\\\\n\t 63.37 & 43 & 43155.19 & 105.04 & Open-architected full-range projection  & Michaelshire     & 1 & Poland                    & 2016-03-23 12:53:23 & 1\\\\\n\t 89.71 & 48 & 51501.38 & 204.40 & Versatile local forecast                & Sarafurt         & 1 & Bahrain                   & 2016-02-17 07:00:38 & 0\\\\\n\t 70.96 & 31 & 55187.85 & 256.40 & Ameliorated user-facing help-desk       & South Denise     & 0 & Saint Pierre and Miquelon & 2016-06-26 07:01:47 & 0\\\\\n\t 35.79 & 44 & 33813.08 & 165.62 & Enterprise-wide tangible model          & North Katie      & 1 & Tonga                     & 2016-04-20 13:36:42 & 1\\\\\n\t 38.96 & 38 & 36497.22 & 140.67 & Versatile mission-critical application  & Mauricefurt      & 1 & Comoros                   & 2016-07-21 16:02:40 & 1\\\\\n\t 69.17 & 40 & 66193.81 & 123.62 & Extended leadingedge solution           & New Patrick      & 0 & Montenegro                & 2016-03-06 11:36:06 & 1\\\\\n\t 64.20 & 27 & 66200.96 & 227.63 & Phased zero tolerance extranet          & Edwardsmouth     & 1 & Isle of Man               & 2016-02-11 23:45:01 & 0\\\\\n\t 43.70 & 28 & 63126.96 & 173.01 & Front-line bifurcated ability           & Nicholasland     & 0 & Mayotte                   & 2016-04-04 03:57:48 & 1\\\\\n\t 72.97 & 30 & 71384.57 & 208.58 & Fundamental modular algorithm           & Duffystad        & 1 & Lebanon                   & 2016-02-11 21:49:00 & 1\\\\\n\t 51.30 & 45 & 67782.17 & 134.42 & Grass-roots cohesive monitoring         & New Darlene      & 1 & Bosnia and Herzegovina    & 2016-04-22 02:07:01 & 1\\\\\n\t 51.63 & 51 & 42415.72 & 120.37 & Expanded intangible solution            & South Jessica    & 1 & Mongolia                  & 2016-02-01 17:24:57 & 1\\\\\n\t 55.55 & 19 & 41920.79 & 187.95 & Proactive bandwidth-monitored policy    & West Steven      & 0 & Guatemala                 & 2016-03-24 02:35:54 & 0\\\\\n\t 45.01 & 26 & 29875.80 & 178.35 & Virtual 5thgeneration emulation         & Ronniemouth      & 0 & Brazil                    & 2016-06-03 21:43:21 & 1\\\\\n\\end{tabular}\n",
            "text/markdown": "\nA data.table: 1000 × 10\n\n| Daily Time Spent on Site &lt;dbl&gt; | Age &lt;int&gt; | Area Income &lt;dbl&gt; | Daily Internet Usage &lt;dbl&gt; | Ad Topic Line &lt;chr&gt; | City &lt;chr&gt; | Male &lt;int&gt; | Country &lt;chr&gt; | Timestamp &lt;chr&gt; | Clicked on Ad &lt;int&gt; |\n|---|---|---|---|---|---|---|---|---|---|\n| 68.95 | 35 | 61833.90 | 256.09 | Cloned 5thgeneration orchestration            | Wrightburgh       | 0 | Tunisia                                             | 2016-03-27 00:53:11 | 0 |\n| 80.23 | 31 | 68441.85 | 193.77 | Monitored national standardization            | West Jodi         | 1 | Nauru                                               | 2016-04-04 01:39:02 | 0 |\n| 69.47 | 26 | 59785.94 | 236.50 | Organic bottom-line service-desk              | Davidton          | 0 | San Marino                                          | 2016-03-13 20:35:42 | 0 |\n| 74.15 | 29 | 54806.18 | 245.89 | Triple-buffered reciprocal time-frame         | West Terrifurt    | 1 | Italy                                               | 2016-01-10 02:31:19 | 0 |\n| 68.37 | 35 | 73889.99 | 225.58 | Robust logistical utilization                 | South Manuel      | 0 | Iceland                                             | 2016-06-03 03:36:18 | 0 |\n| 59.99 | 23 | 59761.56 | 226.74 | Sharable client-driven software               | Jamieberg         | 1 | Norway                                              | 2016-05-19 14:30:17 | 0 |\n| 88.91 | 33 | 53852.85 | 208.36 | Enhanced dedicated support                    | Brandonstad       | 0 | Myanmar                                             | 2016-01-28 20:59:32 | 0 |\n| 66.00 | 48 | 24593.33 | 131.76 | Reactive local challenge                      | Port Jefferybury  | 1 | Australia                                           | 2016-03-07 01:40:15 | 1 |\n| 74.53 | 30 | 68862.00 | 221.51 | Configurable coherent function                | West Colin        | 1 | Grenada                                             | 2016-04-18 09:33:42 | 0 |\n| 69.88 | 20 | 55642.32 | 183.82 | Mandatory homogeneous architecture            | Ramirezton        | 1 | Ghana                                               | 2016-07-11 01:42:51 | 0 |\n| 47.64 | 49 | 45632.51 | 122.02 | Centralized neutral neural-net                | West Brandonton   | 0 | Qatar                                               | 2016-03-16 20:19:01 | 1 |\n| 83.07 | 37 | 62491.01 | 230.87 | Team-oriented grid-enabled Local Area Network | East Theresashire | 1 | Burundi                                             | 2016-05-08 08:10:10 | 0 |\n| 69.57 | 48 | 51636.92 | 113.12 | Centralized content-based focus group         | West Katiefurt    | 1 | Egypt                                               | 2016-06-03 01:14:41 | 1 |\n| 79.52 | 24 | 51739.63 | 214.23 | Synergistic fresh-thinking array              | North Tara        | 0 | Bosnia and Herzegovina                              | 2016-04-20 21:49:22 | 0 |\n| 42.95 | 33 | 30976.00 | 143.56 | Grass-roots coherent extranet                 | West William      | 0 | Barbados                                            | 2016-03-24 09:31:49 | 1 |\n| 63.45 | 23 | 52182.23 | 140.64 | Persistent demand-driven interface            | New Travistown    | 1 | Spain                                               | 2016-03-09 03:41:30 | 1 |\n| 55.39 | 37 | 23936.86 | 129.41 | Customizable multi-tasking website            | West Dylanberg    | 0 | Palestinian Territory                               | 2016-01-30 19:20:41 | 1 |\n| 82.03 | 41 | 71511.08 | 187.53 | Intuitive dynamic attitude                    | Pruittmouth       | 0 | Afghanistan                                         | 2016-05-02 07:00:58 | 0 |\n| 54.70 | 36 | 31087.54 | 118.39 | Grass-roots solution-oriented conglomeration  | Jessicastad       | 1 | British Indian Ocean Territory (Chagos Archipelago) | 2016-02-13 07:53:55 | 1 |\n| 74.58 | 40 | 23821.72 | 135.51 | Advanced 24/7 productivity                    | Millertown        | 1 | Russian Federation                                  | 2016-02-27 04:43:07 | 1 |\n| 77.22 | 30 | 64802.33 | 224.44 | Object-based reciprocal knowledgebase         | Port Jacqueline   | 1 | Cameroon                                            | 2016-01-05 07:52:48 | 0 |\n| 84.59 | 35 | 60015.57 | 226.54 | Streamlined non-volatile analyzer             | Lake Nicole       | 1 | Cameroon                                            | 2016-03-18 13:22:35 | 0 |\n| 41.49 | 52 | 32635.70 | 164.83 | Mandatory disintermediate utilization         | South John        | 0 | Burundi                                             | 2016-05-20 08:49:33 | 1 |\n| 87.29 | 36 | 61628.72 | 209.93 | Future-proofed methodical protocol            | Pamelamouth       | 1 | Korea                                               | 2016-03-23 09:43:43 | 0 |\n| 41.39 | 41 | 68962.32 | 167.22 | Exclusive neutral parallelism                 | Harperborough     | 0 | Tokelau                                             | 2016-06-13 17:27:09 | 1 |\n| 78.74 | 28 | 64828.00 | 204.79 | Public-key foreground groupware               | Port Danielleberg | 1 | Monaco                                              | 2016-05-27 15:25:52 | 0 |\n| 48.53 | 28 | 38067.08 | 134.14 | Ameliorated client-driven forecast            | West Jeremyside   | 1 | Tuvalu                                              | 2016-02-08 10:46:14 | 1 |\n| 51.95 | 52 | 58295.82 | 129.23 | Monitored systematic hierarchy                | South Cathyfurt   | 0 | Greece                                              | 2016-07-19 08:32:10 | 1 |\n| 70.20 | 34 | 32708.94 | 119.20 | Open-architected impactful productivity       | Palmerside        | 0 | British Virgin Islands                              | 2016-04-14 05:08:35 | 1 |\n| 76.02 | 22 | 46179.97 | 209.82 | Business-focused value-added definition       | West Guybury      | 0 | Bouvet Island (Bouvetoya)                           | 2016-01-27 12:38:16 | 0 |\n| ⋮ | ⋮ | ⋮ | ⋮ | ⋮ | ⋮ | ⋮ | ⋮ | ⋮ | ⋮ |\n| 40.18 | 29 | 50760.23 | 151.96 | Enhanced intangible portal              | Lake Tracy       | 0 | Hong Kong                 | 2016-06-25 04:21:33 | 1 |\n| 45.17 | 48 | 34418.09 | 132.07 | Down-sized background groupware         | Taylormouth      | 1 | Palau                     | 2016-01-27 14:41:10 | 1 |\n| 50.48 | 50 | 20592.99 | 162.43 | Switchable real-time product            | Dianaville       | 0 | Malawi                    | 2016-05-16 18:51:59 | 1 |\n| 80.87 | 28 | 63528.80 | 203.30 | Ameliorated local workforce             | Collinsburgh     | 0 | Uruguay                   | 2016-02-27 20:20:25 | 0 |\n| 41.88 | 40 | 44217.68 | 126.11 | Streamlined exuding adapter             | Port Rachel      | 1 | Cyprus                    | 2016-02-28 23:54:44 | 1 |\n| 39.87 | 48 | 47929.83 | 139.34 | Business-focused user-facing benchmark  | South Rebecca    | 1 | Mexico                    | 2016-06-13 06:11:33 | 1 |\n| 61.84 | 45 | 46024.29 | 105.63 | Reactive bi-directional standardization | Port Joshuafort  | 1 | Niger                     | 2016-05-05 11:07:13 | 1 |\n| 54.97 | 31 | 51900.03 | 116.38 | Virtual bifurcated portal               | Robinsontown     | 1 | France                    | 2016-07-07 12:17:33 | 1 |\n| 71.40 | 30 | 72188.90 | 166.31 | Integrated 3rdgeneration monitoring     | Beckton          | 0 | Japan                     | 2016-05-24 17:07:08 | 0 |\n| 70.29 | 31 | 56974.51 | 254.65 | Balanced responsive open system         | New Frankshire   | 1 | Norfolk Island            | 2016-03-30 14:36:55 | 0 |\n| 67.26 | 57 | 25682.65 | 168.41 | Focused incremental Graphic Interface   | North Derekville | 1 | Bulgaria                  | 2016-05-27 05:54:03 | 1 |\n| 76.58 | 46 | 41884.64 | 258.26 | Secured 24hour policy                   | West Sydney      | 0 | Uzbekistan                | 2016-01-03 16:30:51 | 0 |\n| 54.37 | 38 | 72196.29 | 140.77 | Up-sized asymmetric firmware            | Lake Matthew     | 0 | Mexico                    | 2016-06-25 18:17:53 | 1 |\n| 82.79 | 32 | 54429.17 | 234.81 | Distributed fault-tolerant service-desk | Lake Zacharyfurt | 1 | Brunei Darussalam         | 2016-02-24 10:36:43 | 0 |\n| 66.47 | 31 | 58037.66 | 256.39 | Vision-oriented human-resource synergy  | Lindsaymouth     | 1 | France                    | 2016-03-03 03:13:48 | 0 |\n| 72.88 | 44 | 64011.26 | 125.12 | Customer-focused explicit challenge     | Sarahland        | 0 | Yemen                     | 2016-04-21 19:56:24 | 1 |\n| 76.44 | 28 | 59967.19 | 232.68 | Synchronized human-resource moderator   | Port Julie       | 1 | Northern Mariana Islands  | 2016-04-06 17:26:37 | 0 |\n| 63.37 | 43 | 43155.19 | 105.04 | Open-architected full-range projection  | Michaelshire     | 1 | Poland                    | 2016-03-23 12:53:23 | 1 |\n| 89.71 | 48 | 51501.38 | 204.40 | Versatile local forecast                | Sarafurt         | 1 | Bahrain                   | 2016-02-17 07:00:38 | 0 |\n| 70.96 | 31 | 55187.85 | 256.40 | Ameliorated user-facing help-desk       | South Denise     | 0 | Saint Pierre and Miquelon | 2016-06-26 07:01:47 | 0 |\n| 35.79 | 44 | 33813.08 | 165.62 | Enterprise-wide tangible model          | North Katie      | 1 | Tonga                     | 2016-04-20 13:36:42 | 1 |\n| 38.96 | 38 | 36497.22 | 140.67 | Versatile mission-critical application  | Mauricefurt      | 1 | Comoros                   | 2016-07-21 16:02:40 | 1 |\n| 69.17 | 40 | 66193.81 | 123.62 | Extended leadingedge solution           | New Patrick      | 0 | Montenegro                | 2016-03-06 11:36:06 | 1 |\n| 64.20 | 27 | 66200.96 | 227.63 | Phased zero tolerance extranet          | Edwardsmouth     | 1 | Isle of Man               | 2016-02-11 23:45:01 | 0 |\n| 43.70 | 28 | 63126.96 | 173.01 | Front-line bifurcated ability           | Nicholasland     | 0 | Mayotte                   | 2016-04-04 03:57:48 | 1 |\n| 72.97 | 30 | 71384.57 | 208.58 | Fundamental modular algorithm           | Duffystad        | 1 | Lebanon                   | 2016-02-11 21:49:00 | 1 |\n| 51.30 | 45 | 67782.17 | 134.42 | Grass-roots cohesive monitoring         | New Darlene      | 1 | Bosnia and Herzegovina    | 2016-04-22 02:07:01 | 1 |\n| 51.63 | 51 | 42415.72 | 120.37 | Expanded intangible solution            | South Jessica    | 1 | Mongolia                  | 2016-02-01 17:24:57 | 1 |\n| 55.55 | 19 | 41920.79 | 187.95 | Proactive bandwidth-monitored policy    | West Steven      | 0 | Guatemala                 | 2016-03-24 02:35:54 | 0 |\n| 45.01 | 26 | 29875.80 | 178.35 | Virtual 5thgeneration emulation         | Ronniemouth      | 0 | Brazil                    | 2016-06-03 21:43:21 | 1 |\n\n",
            "text/html": [
              "<table>\n",
              "<caption>A data.table: 1000 × 10</caption>\n",
              "<thead>\n",
              "\t<tr><th scope=col>Daily Time Spent on Site</th><th scope=col>Age</th><th scope=col>Area Income</th><th scope=col>Daily Internet Usage</th><th scope=col>Ad Topic Line</th><th scope=col>City</th><th scope=col>Male</th><th scope=col>Country</th><th scope=col>Timestamp</th><th scope=col>Clicked on Ad</th></tr>\n",
              "\t<tr><th scope=col>&lt;dbl&gt;</th><th scope=col>&lt;int&gt;</th><th scope=col>&lt;dbl&gt;</th><th scope=col>&lt;dbl&gt;</th><th scope=col>&lt;chr&gt;</th><th scope=col>&lt;chr&gt;</th><th scope=col>&lt;int&gt;</th><th scope=col>&lt;chr&gt;</th><th scope=col>&lt;chr&gt;</th><th scope=col>&lt;int&gt;</th></tr>\n",
              "</thead>\n",
              "<tbody>\n",
              "\t<tr><td>68.95</td><td>35</td><td>61833.90</td><td>256.09</td><td>Cloned 5thgeneration orchestration           </td><td>Wrightburgh      </td><td>0</td><td>Tunisia                                            </td><td>2016-03-27 00:53:11</td><td>0</td></tr>\n",
              "\t<tr><td>80.23</td><td>31</td><td>68441.85</td><td>193.77</td><td>Monitored national standardization           </td><td>West Jodi        </td><td>1</td><td>Nauru                                              </td><td>2016-04-04 01:39:02</td><td>0</td></tr>\n",
              "\t<tr><td>69.47</td><td>26</td><td>59785.94</td><td>236.50</td><td>Organic bottom-line service-desk             </td><td>Davidton         </td><td>0</td><td>San Marino                                         </td><td>2016-03-13 20:35:42</td><td>0</td></tr>\n",
              "\t<tr><td>74.15</td><td>29</td><td>54806.18</td><td>245.89</td><td>Triple-buffered reciprocal time-frame        </td><td>West Terrifurt   </td><td>1</td><td>Italy                                              </td><td>2016-01-10 02:31:19</td><td>0</td></tr>\n",
              "\t<tr><td>68.37</td><td>35</td><td>73889.99</td><td>225.58</td><td>Robust logistical utilization                </td><td>South Manuel     </td><td>0</td><td>Iceland                                            </td><td>2016-06-03 03:36:18</td><td>0</td></tr>\n",
              "\t<tr><td>59.99</td><td>23</td><td>59761.56</td><td>226.74</td><td>Sharable client-driven software              </td><td>Jamieberg        </td><td>1</td><td>Norway                                             </td><td>2016-05-19 14:30:17</td><td>0</td></tr>\n",
              "\t<tr><td>88.91</td><td>33</td><td>53852.85</td><td>208.36</td><td>Enhanced dedicated support                   </td><td>Brandonstad      </td><td>0</td><td>Myanmar                                            </td><td>2016-01-28 20:59:32</td><td>0</td></tr>\n",
              "\t<tr><td>66.00</td><td>48</td><td>24593.33</td><td>131.76</td><td>Reactive local challenge                     </td><td>Port Jefferybury </td><td>1</td><td>Australia                                          </td><td>2016-03-07 01:40:15</td><td>1</td></tr>\n",
              "\t<tr><td>74.53</td><td>30</td><td>68862.00</td><td>221.51</td><td>Configurable coherent function               </td><td>West Colin       </td><td>1</td><td>Grenada                                            </td><td>2016-04-18 09:33:42</td><td>0</td></tr>\n",
              "\t<tr><td>69.88</td><td>20</td><td>55642.32</td><td>183.82</td><td>Mandatory homogeneous architecture           </td><td>Ramirezton       </td><td>1</td><td>Ghana                                              </td><td>2016-07-11 01:42:51</td><td>0</td></tr>\n",
              "\t<tr><td>47.64</td><td>49</td><td>45632.51</td><td>122.02</td><td>Centralized neutral neural-net               </td><td>West Brandonton  </td><td>0</td><td>Qatar                                              </td><td>2016-03-16 20:19:01</td><td>1</td></tr>\n",
              "\t<tr><td>83.07</td><td>37</td><td>62491.01</td><td>230.87</td><td>Team-oriented grid-enabled Local Area Network</td><td>East Theresashire</td><td>1</td><td>Burundi                                            </td><td>2016-05-08 08:10:10</td><td>0</td></tr>\n",
              "\t<tr><td>69.57</td><td>48</td><td>51636.92</td><td>113.12</td><td>Centralized content-based focus group        </td><td>West Katiefurt   </td><td>1</td><td>Egypt                                              </td><td>2016-06-03 01:14:41</td><td>1</td></tr>\n",
              "\t<tr><td>79.52</td><td>24</td><td>51739.63</td><td>214.23</td><td>Synergistic fresh-thinking array             </td><td>North Tara       </td><td>0</td><td>Bosnia and Herzegovina                             </td><td>2016-04-20 21:49:22</td><td>0</td></tr>\n",
              "\t<tr><td>42.95</td><td>33</td><td>30976.00</td><td>143.56</td><td>Grass-roots coherent extranet                </td><td>West William     </td><td>0</td><td>Barbados                                           </td><td>2016-03-24 09:31:49</td><td>1</td></tr>\n",
              "\t<tr><td>63.45</td><td>23</td><td>52182.23</td><td>140.64</td><td>Persistent demand-driven interface           </td><td>New Travistown   </td><td>1</td><td>Spain                                              </td><td>2016-03-09 03:41:30</td><td>1</td></tr>\n",
              "\t<tr><td>55.39</td><td>37</td><td>23936.86</td><td>129.41</td><td>Customizable multi-tasking website           </td><td>West Dylanberg   </td><td>0</td><td>Palestinian Territory                              </td><td>2016-01-30 19:20:41</td><td>1</td></tr>\n",
              "\t<tr><td>82.03</td><td>41</td><td>71511.08</td><td>187.53</td><td>Intuitive dynamic attitude                   </td><td>Pruittmouth      </td><td>0</td><td>Afghanistan                                        </td><td>2016-05-02 07:00:58</td><td>0</td></tr>\n",
              "\t<tr><td>54.70</td><td>36</td><td>31087.54</td><td>118.39</td><td>Grass-roots solution-oriented conglomeration </td><td>Jessicastad      </td><td>1</td><td>British Indian Ocean Territory (Chagos Archipelago)</td><td>2016-02-13 07:53:55</td><td>1</td></tr>\n",
              "\t<tr><td>74.58</td><td>40</td><td>23821.72</td><td>135.51</td><td>Advanced 24/7 productivity                   </td><td>Millertown       </td><td>1</td><td>Russian Federation                                 </td><td>2016-02-27 04:43:07</td><td>1</td></tr>\n",
              "\t<tr><td>77.22</td><td>30</td><td>64802.33</td><td>224.44</td><td>Object-based reciprocal knowledgebase        </td><td>Port Jacqueline  </td><td>1</td><td>Cameroon                                           </td><td>2016-01-05 07:52:48</td><td>0</td></tr>\n",
              "\t<tr><td>84.59</td><td>35</td><td>60015.57</td><td>226.54</td><td>Streamlined non-volatile analyzer            </td><td>Lake Nicole      </td><td>1</td><td>Cameroon                                           </td><td>2016-03-18 13:22:35</td><td>0</td></tr>\n",
              "\t<tr><td>41.49</td><td>52</td><td>32635.70</td><td>164.83</td><td>Mandatory disintermediate utilization        </td><td>South John       </td><td>0</td><td>Burundi                                            </td><td>2016-05-20 08:49:33</td><td>1</td></tr>\n",
              "\t<tr><td>87.29</td><td>36</td><td>61628.72</td><td>209.93</td><td>Future-proofed methodical protocol           </td><td>Pamelamouth      </td><td>1</td><td>Korea                                              </td><td>2016-03-23 09:43:43</td><td>0</td></tr>\n",
              "\t<tr><td>41.39</td><td>41</td><td>68962.32</td><td>167.22</td><td>Exclusive neutral parallelism                </td><td>Harperborough    </td><td>0</td><td>Tokelau                                            </td><td>2016-06-13 17:27:09</td><td>1</td></tr>\n",
              "\t<tr><td>78.74</td><td>28</td><td>64828.00</td><td>204.79</td><td>Public-key foreground groupware              </td><td>Port Danielleberg</td><td>1</td><td>Monaco                                             </td><td>2016-05-27 15:25:52</td><td>0</td></tr>\n",
              "\t<tr><td>48.53</td><td>28</td><td>38067.08</td><td>134.14</td><td>Ameliorated client-driven forecast           </td><td>West Jeremyside  </td><td>1</td><td>Tuvalu                                             </td><td>2016-02-08 10:46:14</td><td>1</td></tr>\n",
              "\t<tr><td>51.95</td><td>52</td><td>58295.82</td><td>129.23</td><td>Monitored systematic hierarchy               </td><td>South Cathyfurt  </td><td>0</td><td>Greece                                             </td><td>2016-07-19 08:32:10</td><td>1</td></tr>\n",
              "\t<tr><td>70.20</td><td>34</td><td>32708.94</td><td>119.20</td><td>Open-architected impactful productivity      </td><td>Palmerside       </td><td>0</td><td>British Virgin Islands                             </td><td>2016-04-14 05:08:35</td><td>1</td></tr>\n",
              "\t<tr><td>76.02</td><td>22</td><td>46179.97</td><td>209.82</td><td>Business-focused value-added definition      </td><td>West Guybury     </td><td>0</td><td>Bouvet Island (Bouvetoya)                          </td><td>2016-01-27 12:38:16</td><td>0</td></tr>\n",
              "\t<tr><td>⋮</td><td>⋮</td><td>⋮</td><td>⋮</td><td>⋮</td><td>⋮</td><td>⋮</td><td>⋮</td><td>⋮</td><td>⋮</td></tr>\n",
              "\t<tr><td>40.18</td><td>29</td><td>50760.23</td><td>151.96</td><td>Enhanced intangible portal             </td><td>Lake Tracy      </td><td>0</td><td>Hong Kong                </td><td>2016-06-25 04:21:33</td><td>1</td></tr>\n",
              "\t<tr><td>45.17</td><td>48</td><td>34418.09</td><td>132.07</td><td>Down-sized background groupware        </td><td>Taylormouth     </td><td>1</td><td>Palau                    </td><td>2016-01-27 14:41:10</td><td>1</td></tr>\n",
              "\t<tr><td>50.48</td><td>50</td><td>20592.99</td><td>162.43</td><td>Switchable real-time product           </td><td>Dianaville      </td><td>0</td><td>Malawi                   </td><td>2016-05-16 18:51:59</td><td>1</td></tr>\n",
              "\t<tr><td>80.87</td><td>28</td><td>63528.80</td><td>203.30</td><td>Ameliorated local workforce            </td><td>Collinsburgh    </td><td>0</td><td>Uruguay                  </td><td>2016-02-27 20:20:25</td><td>0</td></tr>\n",
              "\t<tr><td>41.88</td><td>40</td><td>44217.68</td><td>126.11</td><td>Streamlined exuding adapter            </td><td>Port Rachel     </td><td>1</td><td>Cyprus                   </td><td>2016-02-28 23:54:44</td><td>1</td></tr>\n",
              "\t<tr><td>39.87</td><td>48</td><td>47929.83</td><td>139.34</td><td>Business-focused user-facing benchmark </td><td>South Rebecca   </td><td>1</td><td>Mexico                   </td><td>2016-06-13 06:11:33</td><td>1</td></tr>\n",
              "\t<tr><td>61.84</td><td>45</td><td>46024.29</td><td>105.63</td><td>Reactive bi-directional standardization</td><td>Port Joshuafort </td><td>1</td><td>Niger                    </td><td>2016-05-05 11:07:13</td><td>1</td></tr>\n",
              "\t<tr><td>54.97</td><td>31</td><td>51900.03</td><td>116.38</td><td>Virtual bifurcated portal              </td><td>Robinsontown    </td><td>1</td><td>France                   </td><td>2016-07-07 12:17:33</td><td>1</td></tr>\n",
              "\t<tr><td>71.40</td><td>30</td><td>72188.90</td><td>166.31</td><td>Integrated 3rdgeneration monitoring    </td><td>Beckton         </td><td>0</td><td>Japan                    </td><td>2016-05-24 17:07:08</td><td>0</td></tr>\n",
              "\t<tr><td>70.29</td><td>31</td><td>56974.51</td><td>254.65</td><td>Balanced responsive open system        </td><td>New Frankshire  </td><td>1</td><td>Norfolk Island           </td><td>2016-03-30 14:36:55</td><td>0</td></tr>\n",
              "\t<tr><td>67.26</td><td>57</td><td>25682.65</td><td>168.41</td><td>Focused incremental Graphic Interface  </td><td>North Derekville</td><td>1</td><td>Bulgaria                 </td><td>2016-05-27 05:54:03</td><td>1</td></tr>\n",
              "\t<tr><td>76.58</td><td>46</td><td>41884.64</td><td>258.26</td><td>Secured 24hour policy                  </td><td>West Sydney     </td><td>0</td><td>Uzbekistan               </td><td>2016-01-03 16:30:51</td><td>0</td></tr>\n",
              "\t<tr><td>54.37</td><td>38</td><td>72196.29</td><td>140.77</td><td>Up-sized asymmetric firmware           </td><td>Lake Matthew    </td><td>0</td><td>Mexico                   </td><td>2016-06-25 18:17:53</td><td>1</td></tr>\n",
              "\t<tr><td>82.79</td><td>32</td><td>54429.17</td><td>234.81</td><td>Distributed fault-tolerant service-desk</td><td>Lake Zacharyfurt</td><td>1</td><td>Brunei Darussalam        </td><td>2016-02-24 10:36:43</td><td>0</td></tr>\n",
              "\t<tr><td>66.47</td><td>31</td><td>58037.66</td><td>256.39</td><td>Vision-oriented human-resource synergy </td><td>Lindsaymouth    </td><td>1</td><td>France                   </td><td>2016-03-03 03:13:48</td><td>0</td></tr>\n",
              "\t<tr><td>72.88</td><td>44</td><td>64011.26</td><td>125.12</td><td>Customer-focused explicit challenge    </td><td>Sarahland       </td><td>0</td><td>Yemen                    </td><td>2016-04-21 19:56:24</td><td>1</td></tr>\n",
              "\t<tr><td>76.44</td><td>28</td><td>59967.19</td><td>232.68</td><td>Synchronized human-resource moderator  </td><td>Port Julie      </td><td>1</td><td>Northern Mariana Islands </td><td>2016-04-06 17:26:37</td><td>0</td></tr>\n",
              "\t<tr><td>63.37</td><td>43</td><td>43155.19</td><td>105.04</td><td>Open-architected full-range projection </td><td>Michaelshire    </td><td>1</td><td>Poland                   </td><td>2016-03-23 12:53:23</td><td>1</td></tr>\n",
              "\t<tr><td>89.71</td><td>48</td><td>51501.38</td><td>204.40</td><td>Versatile local forecast               </td><td>Sarafurt        </td><td>1</td><td>Bahrain                  </td><td>2016-02-17 07:00:38</td><td>0</td></tr>\n",
              "\t<tr><td>70.96</td><td>31</td><td>55187.85</td><td>256.40</td><td>Ameliorated user-facing help-desk      </td><td>South Denise    </td><td>0</td><td>Saint Pierre and Miquelon</td><td>2016-06-26 07:01:47</td><td>0</td></tr>\n",
              "\t<tr><td>35.79</td><td>44</td><td>33813.08</td><td>165.62</td><td>Enterprise-wide tangible model         </td><td>North Katie     </td><td>1</td><td>Tonga                    </td><td>2016-04-20 13:36:42</td><td>1</td></tr>\n",
              "\t<tr><td>38.96</td><td>38</td><td>36497.22</td><td>140.67</td><td>Versatile mission-critical application </td><td>Mauricefurt     </td><td>1</td><td>Comoros                  </td><td>2016-07-21 16:02:40</td><td>1</td></tr>\n",
              "\t<tr><td>69.17</td><td>40</td><td>66193.81</td><td>123.62</td><td>Extended leadingedge solution          </td><td>New Patrick     </td><td>0</td><td>Montenegro               </td><td>2016-03-06 11:36:06</td><td>1</td></tr>\n",
              "\t<tr><td>64.20</td><td>27</td><td>66200.96</td><td>227.63</td><td>Phased zero tolerance extranet         </td><td>Edwardsmouth    </td><td>1</td><td>Isle of Man              </td><td>2016-02-11 23:45:01</td><td>0</td></tr>\n",
              "\t<tr><td>43.70</td><td>28</td><td>63126.96</td><td>173.01</td><td>Front-line bifurcated ability          </td><td>Nicholasland    </td><td>0</td><td>Mayotte                  </td><td>2016-04-04 03:57:48</td><td>1</td></tr>\n",
              "\t<tr><td>72.97</td><td>30</td><td>71384.57</td><td>208.58</td><td>Fundamental modular algorithm          </td><td>Duffystad       </td><td>1</td><td>Lebanon                  </td><td>2016-02-11 21:49:00</td><td>1</td></tr>\n",
              "\t<tr><td>51.30</td><td>45</td><td>67782.17</td><td>134.42</td><td>Grass-roots cohesive monitoring        </td><td>New Darlene     </td><td>1</td><td>Bosnia and Herzegovina   </td><td>2016-04-22 02:07:01</td><td>1</td></tr>\n",
              "\t<tr><td>51.63</td><td>51</td><td>42415.72</td><td>120.37</td><td>Expanded intangible solution           </td><td>South Jessica   </td><td>1</td><td>Mongolia                 </td><td>2016-02-01 17:24:57</td><td>1</td></tr>\n",
              "\t<tr><td>55.55</td><td>19</td><td>41920.79</td><td>187.95</td><td>Proactive bandwidth-monitored policy   </td><td>West Steven     </td><td>0</td><td>Guatemala                </td><td>2016-03-24 02:35:54</td><td>0</td></tr>\n",
              "\t<tr><td>45.01</td><td>26</td><td>29875.80</td><td>178.35</td><td>Virtual 5thgeneration emulation        </td><td>Ronniemouth     </td><td>0</td><td>Brazil                   </td><td>2016-06-03 21:43:21</td><td>1</td></tr>\n",
              "</tbody>\n",
              "</table>\n"
            ]
          },
          "metadata": {
            "tags": []
          }
        }
      ]
    },
    {
      "cell_type": "markdown",
      "metadata": {
        "id": "YmXoTvBfErA3"
      },
      "source": [
        "Outliers"
      ]
    },
    {
      "cell_type": "code",
      "metadata": {
        "id": "8D7HvF-DRFS5"
      },
      "source": [
        "library(tidyverse)\n",
        "my_data <- ad %>% select(1,2,3,4,7,10)"
      ],
      "execution_count": null,
      "outputs": []
    },
    {
      "cell_type": "code",
      "metadata": {
        "id": "td1xsoHWTUDp",
        "outputId": "aa9cb1da-50c3-41b5-f7f2-3872ad037a1a",
        "colab": {
          "base_uri": "https://localhost:8080/",
          "height": 437
        }
      },
      "source": [
        "boxplot(my_data)"
      ],
      "execution_count": null,
      "outputs": [
        {
          "output_type": "display_data",
          "data": {
            "image/png": "[encoded data removed]",
            "text/plain": [
              "plot without title"
            ]
          },
          "metadata": {
            "tags": [],
            "image/png": {
              "width": 420,
              "height": 420
            }
          }
        }
      ]
    },
    {
      "cell_type": "code",
      "metadata": {
        "id": "mA-sZqFVUDhd",
        "outputId": "b9a25eb7-0736-4272-bcab-b5b63f3fdf26",
        "colab": {
          "base_uri": "https://localhost:8080/"
        }
      },
      "source": [
        "install.packages('reshape2')"
      ],
      "execution_count": null,
      "outputs": [
        {
          "output_type": "stream",
          "text": [
            "Installing package into ‘/usr/local/lib/R/site-library’\n",
            "(as ‘lib’ is unspecified)\n",
            "\n",
            "also installing the dependency ‘plyr’\n",
            "\n",
            "\n"
          ],
          "name": "stderr"
        }
      ]
    },
    {
      "cell_type": "code",
      "metadata": {
        "id": "UT6hSgecYMlm",
        "outputId": "4b5c71c4-77a7-4b8f-a200-12f6d2ef0684",
        "colab": {
          "base_uri": "https://localhost:8080/",
          "height": 709
        }
      },
      "source": [
        "library(reshape2)\n",
        "library(ggplot2)\n",
        "\n",
        "x <- melt(my_data)\n",
        "\n",
        "plt <- ggplot(data = x, aes(x = variable, y = value))\n",
        "plt + geom_boxplot() + theme_minimal() + labs(x = \"Title\", y = \"x\")"
      ],
      "execution_count": null,
      "outputs": [
        {
          "output_type": "stream",
          "text": [
            "\n",
            "Attaching package: ‘reshape2’\n",
            "\n",
            "\n",
            "The following object is masked from ‘package:tidyr’:\n",
            "\n",
            "    smiths\n",
            "\n",
            "\n",
            "The following objects are masked from ‘package:data.table’:\n",
            "\n",
            "    dcast, melt\n",
            "\n",
            "\n",
            "No id variables; using all as measure variables\n",
            "\n"
          ],
          "name": "stderr"
        },
        {
          "output_type": "display_data",
          "data": {
            "image/png": "[encoded data removed]",
            "text/plain": [
              "plot without title"
            ]
          },
          "metadata": {
            "tags": [],
            "image/png": {
              "width": 420,
              "height": 420
            }
          }
        }
      ]
    },
    {
      "cell_type": "code",
      "metadata": {
        "id": "ELP_CcZvY2ct",
        "outputId": "a76330ac-8af4-4945-c116-11cdbfd354ad",
        "colab": {
          "base_uri": "https://localhost:8080/",
          "height": 1000
        }
      },
      "source": [
        "boxplot(daily_time_spent)\n",
        "boxplot(age)\n",
        "boxplot(area_income)\n",
        "boxplot(daily_internet_usage)\n",
        "boxplot(gender)\n",
        "boxplot(clicked_on_ad)"
      ],
      "execution_count": null,
      "outputs": [
        {
          "output_type": "display_data",
          "data": {
            "image/png": "[encoded data removed]",
            "text/plain": [
              "plot without title"
            ]
          },
          "metadata": {
            "tags": [],
            "image/png": {
              "width": 420,
              "height": 420
            }
          }
        },
        {
          "output_type": "display_data",
          "data": {
            "image/png": "[encoded data removed]",
            "text/plain": [
              "plot without title"
            ]
          },
          "metadata": {
            "tags": [],
            "image/png": {
              "width": 420,
              "height": 420
            }
          }
        },
        {
          "output_type": "display_data",
          "data": {
            "image/png": "[encoded data removed]",
            "text/plain": [
              "plot without title"
            ]
          },
          "metadata": {
            "tags": [],
            "image/png": {
              "width": 420,
              "height": 420
            }
          }
        },
        {
          "output_type": "display_data",
          "data": {
            "image/png": "[encoded data removed]",
            "text/plain": [
              "plot without title"
            ]
          },
          "metadata": {
            "tags": [],
            "image/png": {
              "width": 420,
              "height": 420
            }
          }
        },
        {
          "output_type": "display_data",
          "data": {
            "image/png": "[encoded data removed]",
            "text/plain": [
              "plot without title"
            ]
          },
          "metadata": {
            "tags": [],
            "image/png": {
              "width": 420,
              "height": 420
            }
          }
        },
        {
          "output_type": "display_data",
          "data": {
            "image/png": "[encoded data removed]",
            "text/plain": [
              "plot without title"
            ]
          },
          "metadata": {
            "tags": [],
            "image/png": {
              "width": 420,
              "height": 420
            }
          }
        }
      ]
    },
    {
      "cell_type": "markdown",
      "metadata": {
        "id": "kY9nH1zNEr-z"
      },
      "source": [
        "Anomalies"
      ]
    },
    {
      "cell_type": "code",
      "metadata": {
        "id": "iwv2iGQ_aBPy",
        "outputId": "142c558d-e5bf-4be1-b85a-5cd78adda007",
        "colab": {
          "base_uri": "https://localhost:8080/",
          "height": 78
        }
      },
      "source": [
        "# Checking for duplicate data\n",
        "\n",
        "duplicated_rows <- ad[duplicated(ad),]\n",
        "duplicated_rows"
      ],
      "execution_count": null,
      "outputs": [
        {
          "output_type": "display_data",
          "data": {
            "text/plain": [
              "     Daily Time Spent on Site Age Area Income Daily Internet Usage\n",
              "     Ad Topic Line City Male Country Timestamp Clicked on Ad"
            ],
            "text/latex": "A data.table: 0 × 10\n\\begin{tabular}{llllllllll}\n Daily Time Spent on Site & Age & Area Income & Daily Internet Usage & Ad Topic Line & City & Male & Country & Timestamp & Clicked on Ad\\\\\n <dbl> & <int> & <dbl> & <dbl> & <chr> & <chr> & <int> & <chr> & <chr> & <int>\\\\\n\\hline\n\\end{tabular}\n",
            "text/markdown": "\nA data.table: 0 × 10\n\n| Daily Time Spent on Site &lt;dbl&gt; | Age &lt;int&gt; | Area Income &lt;dbl&gt; | Daily Internet Usage &lt;dbl&gt; | Ad Topic Line &lt;chr&gt; | City &lt;chr&gt; | Male &lt;int&gt; | Country &lt;chr&gt; | Timestamp &lt;chr&gt; | Clicked on Ad &lt;int&gt; |\n|---|---|---|---|---|---|---|---|---|---|\n\n",
            "text/html": [
              "<table>\n",
              "<caption>A data.table: 0 × 10</caption>\n",
              "<thead>\n",
              "\t<tr><th scope=col>Daily Time Spent on Site</th><th scope=col>Age</th><th scope=col>Area Income</th><th scope=col>Daily Internet Usage</th><th scope=col>Ad Topic Line</th><th scope=col>City</th><th scope=col>Male</th><th scope=col>Country</th><th scope=col>Timestamp</th><th scope=col>Clicked on Ad</th></tr>\n",
              "\t<tr><th scope=col>&lt;dbl&gt;</th><th scope=col>&lt;int&gt;</th><th scope=col>&lt;dbl&gt;</th><th scope=col>&lt;dbl&gt;</th><th scope=col>&lt;chr&gt;</th><th scope=col>&lt;chr&gt;</th><th scope=col>&lt;int&gt;</th><th scope=col>&lt;chr&gt;</th><th scope=col>&lt;chr&gt;</th><th scope=col>&lt;int&gt;</th></tr>\n",
              "</thead>\n",
              "<tbody>\n",
              "</tbody>\n",
              "</table>\n"
            ]
          },
          "metadata": {
            "tags": []
          }
        }
      ]
    },
    {
      "cell_type": "markdown",
      "metadata": {
        "id": "t8_x52KLcfss"
      },
      "source": [
        "- No duplicate records in the dataset"
      ]
    },
    {
      "cell_type": "markdown",
      "metadata": {
        "id": "ZCT7WAnh0BNB"
      },
      "source": [
        "# Exploratory Data Analysis"
      ]
    },
    {
      "cell_type": "markdown",
      "metadata": {
        "id": "HHeeVp9w0IFI"
      },
      "source": [
        "## Univariate Analysis"
      ]
    },
    {
      "cell_type": "markdown",
      "metadata": {
        "id": "FeRcyIxpExRJ"
      },
      "source": [
        "calculating and interpreting measures of central tendency (mode, median, mean) ,select an appropriate measure of dispersion and correctly calculate and interpret the statistic i.e evidence of computing and explaining the range, the interquartile range, the standard deviation, variance, skewness, and kurtosis"
      ]
    },
    {
      "cell_type": "code",
      "metadata": {
        "id": "Egcd38RxeP1I",
        "outputId": "2bd7062b-80b3-4277-e3fa-04e15a350b6c",
        "colab": {
          "base_uri": "https://localhost:8080/",
          "height": 249
        }
      },
      "source": [
        "# Means\n",
        "\n",
        "#my_data[lapply(mean)]\n",
        "lapply(my_data,FUN=mean)"
      ],
      "execution_count": null,
      "outputs": [
        {
          "output_type": "display_data",
          "data": {
            "text/plain": [
              "$`Daily Time Spent on Site`\n",
              "[1] 65.0002\n",
              "\n",
              "$Age\n",
              "[1] 36.009\n",
              "\n",
              "$`Area Income`\n",
              "[1] 55000\n",
              "\n",
              "$`Daily Internet Usage`\n",
              "[1] 180.0001\n",
              "\n",
              "$Male\n",
              "[1] 0.481\n",
              "\n",
              "$`Clicked on Ad`\n",
              "[1] 0.5\n"
            ],
            "text/latex": "\\begin{description}\n\\item[\\$`Daily Time Spent on Site`] 65.0002\n\\item[\\$Age] 36.009\n\\item[\\$`Area Income`] 55000.00008\n\\item[\\$`Daily Internet Usage`] 180.0001\n\\item[\\$Male] 0.481\n\\item[\\$`Clicked on Ad`] 0.5\n\\end{description}\n",
            "text/markdown": "$`Daily Time Spent on Site`\n:   65.0002\n$Age\n:   36.009\n$`Area Income`\n:   55000.00008\n$`Daily Internet Usage`\n:   180.0001\n$Male\n:   0.481\n$`Clicked on Ad`\n:   0.5\n\n\n",
            "text/html": [
              "<dl>\n",
              "\t<dt>$`Daily Time Spent on Site`</dt>\n",
              "\t\t<dd>65.0002</dd>\n",
              "\t<dt>$Age</dt>\n",
              "\t\t<dd>36.009</dd>\n",
              "\t<dt>$`Area Income`</dt>\n",
              "\t\t<dd>55000.00008</dd>\n",
              "\t<dt>$`Daily Internet Usage`</dt>\n",
              "\t\t<dd>180.0001</dd>\n",
              "\t<dt>$Male</dt>\n",
              "\t\t<dd>0.481</dd>\n",
              "\t<dt>$`Clicked on Ad`</dt>\n",
              "\t\t<dd>0.5</dd>\n",
              "</dl>\n"
            ]
          },
          "metadata": {
            "tags": []
          }
        }
      ]
    },
    {
      "cell_type": "code",
      "metadata": {
        "id": "p4QaYDCMgasI",
        "outputId": "8e37b6e4-0766-4596-81b4-d7362f3fc710",
        "colab": {
          "base_uri": "https://localhost:8080/",
          "height": 249
        }
      },
      "source": [
        "# Median\n",
        "\n",
        "lapply(my_data,FUN=median)"
      ],
      "execution_count": null,
      "outputs": [
        {
          "output_type": "display_data",
          "data": {
            "text/plain": [
              "$`Daily Time Spent on Site`\n",
              "[1] 68.215\n",
              "\n",
              "$Age\n",
              "[1] 35\n",
              "\n",
              "$`Area Income`\n",
              "[1] 57012.3\n",
              "\n",
              "$`Daily Internet Usage`\n",
              "[1] 183.13\n",
              "\n",
              "$Male\n",
              "[1] 0\n",
              "\n",
              "$`Clicked on Ad`\n",
              "[1] 0.5\n"
            ],
            "text/latex": "\\begin{description}\n\\item[\\$`Daily Time Spent on Site`] 68.215\n\\item[\\$Age] 35\n\\item[\\$`Area Income`] 57012.3\n\\item[\\$`Daily Internet Usage`] 183.13\n\\item[\\$Male] 0\n\\item[\\$`Clicked on Ad`] 0.5\n\\end{description}\n",
            "text/markdown": "$`Daily Time Spent on Site`\n:   68.215\n$Age\n:   35\n$`Area Income`\n:   57012.3\n$`Daily Internet Usage`\n:   183.13\n$Male\n:   0\n$`Clicked on Ad`\n:   0.5\n\n\n",
            "text/html": [
              "<dl>\n",
              "\t<dt>$`Daily Time Spent on Site`</dt>\n",
              "\t\t<dd>68.215</dd>\n",
              "\t<dt>$Age</dt>\n",
              "\t\t<dd>35</dd>\n",
              "\t<dt>$`Area Income`</dt>\n",
              "\t\t<dd>57012.3</dd>\n",
              "\t<dt>$`Daily Internet Usage`</dt>\n",
              "\t\t<dd>183.13</dd>\n",
              "\t<dt>$Male</dt>\n",
              "\t\t<dd>0</dd>\n",
              "\t<dt>$`Clicked on Ad`</dt>\n",
              "\t\t<dd>0.5</dd>\n",
              "</dl>\n"
            ]
          },
          "metadata": {
            "tags": []
          }
        }
      ]
    },
    {
      "cell_type": "code",
      "metadata": {
        "id": "rE86foyYgiBQ",
        "outputId": "15e93948-dadf-4611-e55a-6512a117cb7a",
        "colab": {
          "base_uri": "https://localhost:8080/",
          "height": 249
        }
      },
      "source": [
        "# Mode\n",
        "\n",
        "getmode <- function(v) {\n",
        "   uniqv <- unique(v)\n",
        "   uniqv[which.max(tabulate(match(v, uniqv)))]\n",
        "}\n",
        "lapply(my_data,FUN=getmode)"
      ],
      "execution_count": null,
      "outputs": [
        {
          "output_type": "display_data",
          "data": {
            "text/plain": [
              "$`Daily Time Spent on Site`\n",
              "[1] 62.26\n",
              "\n",
              "$Age\n",
              "[1] 31\n",
              "\n",
              "$`Area Income`\n",
              "[1] 61833.9\n",
              "\n",
              "$`Daily Internet Usage`\n",
              "[1] 167.22\n",
              "\n",
              "$Male\n",
              "[1] 0\n",
              "\n",
              "$`Clicked on Ad`\n",
              "[1] 0\n"
            ],
            "text/latex": "\\begin{description}\n\\item[\\$`Daily Time Spent on Site`] 62.26\n\\item[\\$Age] 31\n\\item[\\$`Area Income`] 61833.9\n\\item[\\$`Daily Internet Usage`] 167.22\n\\item[\\$Male] 0\n\\item[\\$`Clicked on Ad`] 0\n\\end{description}\n",
            "text/markdown": "$`Daily Time Spent on Site`\n:   62.26\n$Age\n:   31\n$`Area Income`\n:   61833.9\n$`Daily Internet Usage`\n:   167.22\n$Male\n:   0\n$`Clicked on Ad`\n:   0\n\n\n",
            "text/html": [
              "<dl>\n",
              "\t<dt>$`Daily Time Spent on Site`</dt>\n",
              "\t\t<dd>62.26</dd>\n",
              "\t<dt>$Age</dt>\n",
              "\t\t<dd>31</dd>\n",
              "\t<dt>$`Area Income`</dt>\n",
              "\t\t<dd>61833.9</dd>\n",
              "\t<dt>$`Daily Internet Usage`</dt>\n",
              "\t\t<dd>167.22</dd>\n",
              "\t<dt>$Male</dt>\n",
              "\t\t<dd>0</dd>\n",
              "\t<dt>$`Clicked on Ad`</dt>\n",
              "\t\t<dd>0</dd>\n",
              "</dl>\n"
            ]
          },
          "metadata": {
            "tags": []
          }
        }
      ]
    },
    {
      "cell_type": "code",
      "metadata": {
        "id": "nh1EFcnTj1wo",
        "outputId": "fca12a43-144c-45b4-b0f4-7bb902f6902c",
        "colab": {
          "base_uri": "https://localhost:8080/",
          "height": 249
        }
      },
      "source": [
        "# Min \n",
        "lapply(my_data,FUN=min)\n"
      ],
      "execution_count": null,
      "outputs": [
        {
          "output_type": "display_data",
          "data": {
            "text/plain": [
              "$`Daily Time Spent on Site`\n",
              "[1] 32.6\n",
              "\n",
              "$Age\n",
              "[1] 19\n",
              "\n",
              "$`Area Income`\n",
              "[1] 13996.5\n",
              "\n",
              "$`Daily Internet Usage`\n",
              "[1] 104.78\n",
              "\n",
              "$Male\n",
              "[1] 0\n",
              "\n",
              "$`Clicked on Ad`\n",
              "[1] 0\n"
            ],
            "text/latex": "\\begin{description}\n\\item[\\$`Daily Time Spent on Site`] 32.6\n\\item[\\$Age] 19\n\\item[\\$`Area Income`] 13996.5\n\\item[\\$`Daily Internet Usage`] 104.78\n\\item[\\$Male] 0\n\\item[\\$`Clicked on Ad`] 0\n\\end{description}\n",
            "text/markdown": "$`Daily Time Spent on Site`\n:   32.6\n$Age\n:   19\n$`Area Income`\n:   13996.5\n$`Daily Internet Usage`\n:   104.78\n$Male\n:   0\n$`Clicked on Ad`\n:   0\n\n\n",
            "text/html": [
              "<dl>\n",
              "\t<dt>$`Daily Time Spent on Site`</dt>\n",
              "\t\t<dd>32.6</dd>\n",
              "\t<dt>$Age</dt>\n",
              "\t\t<dd>19</dd>\n",
              "\t<dt>$`Area Income`</dt>\n",
              "\t\t<dd>13996.5</dd>\n",
              "\t<dt>$`Daily Internet Usage`</dt>\n",
              "\t\t<dd>104.78</dd>\n",
              "\t<dt>$Male</dt>\n",
              "\t\t<dd>0</dd>\n",
              "\t<dt>$`Clicked on Ad`</dt>\n",
              "\t\t<dd>0</dd>\n",
              "</dl>\n"
            ]
          },
          "metadata": {
            "tags": []
          }
        }
      ]
    },
    {
      "cell_type": "code",
      "metadata": {
        "id": "-MVpSLjkkB3Y",
        "outputId": "793908cc-4de7-4ebf-b633-21292c8b2902",
        "colab": {
          "base_uri": "https://localhost:8080/",
          "height": 249
        }
      },
      "source": [
        "# Max\n",
        "\n",
        "lapply(my_data,FUN=max)"
      ],
      "execution_count": null,
      "outputs": [
        {
          "output_type": "display_data",
          "data": {
            "text/plain": [
              "$`Daily Time Spent on Site`\n",
              "[1] 91.43\n",
              "\n",
              "$Age\n",
              "[1] 61\n",
              "\n",
              "$`Area Income`\n",
              "[1] 79484.8\n",
              "\n",
              "$`Daily Internet Usage`\n",
              "[1] 269.96\n",
              "\n",
              "$Male\n",
              "[1] 1\n",
              "\n",
              "$`Clicked on Ad`\n",
              "[1] 1\n"
            ],
            "text/latex": "\\begin{description}\n\\item[\\$`Daily Time Spent on Site`] 91.43\n\\item[\\$Age] 61\n\\item[\\$`Area Income`] 79484.8\n\\item[\\$`Daily Internet Usage`] 269.96\n\\item[\\$Male] 1\n\\item[\\$`Clicked on Ad`] 1\n\\end{description}\n",
            "text/markdown": "$`Daily Time Spent on Site`\n:   91.43\n$Age\n:   61\n$`Area Income`\n:   79484.8\n$`Daily Internet Usage`\n:   269.96\n$Male\n:   1\n$`Clicked on Ad`\n:   1\n\n\n",
            "text/html": [
              "<dl>\n",
              "\t<dt>$`Daily Time Spent on Site`</dt>\n",
              "\t\t<dd>91.43</dd>\n",
              "\t<dt>$Age</dt>\n",
              "\t\t<dd>61</dd>\n",
              "\t<dt>$`Area Income`</dt>\n",
              "\t\t<dd>79484.8</dd>\n",
              "\t<dt>$`Daily Internet Usage`</dt>\n",
              "\t\t<dd>269.96</dd>\n",
              "\t<dt>$Male</dt>\n",
              "\t\t<dd>1</dd>\n",
              "\t<dt>$`Clicked on Ad`</dt>\n",
              "\t\t<dd>1</dd>\n",
              "</dl>\n"
            ]
          },
          "metadata": {
            "tags": []
          }
        }
      ]
    },
    {
      "cell_type": "code",
      "metadata": {
        "id": "9oV9QjapkLSU",
        "outputId": "177fd3cf-df5a-4160-baa9-7239a2240a69",
        "colab": {
          "base_uri": "https://localhost:8080/",
          "height": 249
        }
      },
      "source": [
        "# Range\n",
        "\n",
        "lapply(my_data,FUN=range)"
      ],
      "execution_count": null,
      "outputs": [
        {
          "output_type": "display_data",
          "data": {
            "text/plain": [
              "$`Daily Time Spent on Site`\n",
              "[1] 32.60 91.43\n",
              "\n",
              "$Age\n",
              "[1] 19 61\n",
              "\n",
              "$`Area Income`\n",
              "[1] 13996.5 79484.8\n",
              "\n",
              "$`Daily Internet Usage`\n",
              "[1] 104.78 269.96\n",
              "\n",
              "$Male\n",
              "[1] 0 1\n",
              "\n",
              "$`Clicked on Ad`\n",
              "[1] 0 1\n"
            ],
            "text/latex": "\\begin{description}\n\\item[\\$`Daily Time Spent on Site`] \\begin{enumerate*}\n\\item 32.6\n\\item 91.43\n\\end{enumerate*}\n\n\\item[\\$Age] \\begin{enumerate*}\n\\item 19\n\\item 61\n\\end{enumerate*}\n\n\\item[\\$`Area Income`] \\begin{enumerate*}\n\\item 13996.5\n\\item 79484.8\n\\end{enumerate*}\n\n\\item[\\$`Daily Internet Usage`] \\begin{enumerate*}\n\\item 104.78\n\\item 269.96\n\\end{enumerate*}\n\n\\item[\\$Male] \\begin{enumerate*}\n\\item 0\n\\item 1\n\\end{enumerate*}\n\n\\item[\\$`Clicked on Ad`] \\begin{enumerate*}\n\\item 0\n\\item 1\n\\end{enumerate*}\n\n\\end{description}\n",
            "text/markdown": "$`Daily Time Spent on Site`\n:   1. 32.6\n2. 91.43\n\n\n\n$Age\n:   1. 19\n2. 61\n\n\n\n$`Area Income`\n:   1. 13996.5\n2. 79484.8\n\n\n\n$`Daily Internet Usage`\n:   1. 104.78\n2. 269.96\n\n\n\n$Male\n:   1. 0\n2. 1\n\n\n\n$`Clicked on Ad`\n:   1. 0\n2. 1\n\n\n\n\n\n",
            "text/html": [
              "<dl>\n",
              "\t<dt>$`Daily Time Spent on Site`</dt>\n",
              "\t\t<dd><style>\n",
              ".list-inline {list-style: none; margin:0; padding: 0}\n",
              ".list-inline>li {display: inline-block}\n",
              ".list-inline>li:not(:last-child)::after {content: \"\\00b7\"; padding: 0 .5ex}\n",
              "</style>\n",
              "<ol class=list-inline><li>32.6</li><li>91.43</li></ol>\n",
              "</dd>\n",
              "\t<dt>$Age</dt>\n",
              "\t\t<dd><style>\n",
              ".list-inline {list-style: none; margin:0; padding: 0}\n",
              ".list-inline>li {display: inline-block}\n",
              ".list-inline>li:not(:last-child)::after {content: \"\\00b7\"; padding: 0 .5ex}\n",
              "</style>\n",
              "<ol class=list-inline><li>19</li><li>61</li></ol>\n",
              "</dd>\n",
              "\t<dt>$`Area Income`</dt>\n",
              "\t\t<dd><style>\n",
              ".list-inline {list-style: none; margin:0; padding: 0}\n",
              ".list-inline>li {display: inline-block}\n",
              ".list-inline>li:not(:last-child)::after {content: \"\\00b7\"; padding: 0 .5ex}\n",
              "</style>\n",
              "<ol class=list-inline><li>13996.5</li><li>79484.8</li></ol>\n",
              "</dd>\n",
              "\t<dt>$`Daily Internet Usage`</dt>\n",
              "\t\t<dd><style>\n",
              ".list-inline {list-style: none; margin:0; padding: 0}\n",
              ".list-inline>li {display: inline-block}\n",
              ".list-inline>li:not(:last-child)::after {content: \"\\00b7\"; padding: 0 .5ex}\n",
              "</style>\n",
              "<ol class=list-inline><li>104.78</li><li>269.96</li></ol>\n",
              "</dd>\n",
              "\t<dt>$Male</dt>\n",
              "\t\t<dd><style>\n",
              ".list-inline {list-style: none; margin:0; padding: 0}\n",
              ".list-inline>li {display: inline-block}\n",
              ".list-inline>li:not(:last-child)::after {content: \"\\00b7\"; padding: 0 .5ex}\n",
              "</style>\n",
              "<ol class=list-inline><li>0</li><li>1</li></ol>\n",
              "</dd>\n",
              "\t<dt>$`Clicked on Ad`</dt>\n",
              "\t\t<dd><style>\n",
              ".list-inline {list-style: none; margin:0; padding: 0}\n",
              ".list-inline>li {display: inline-block}\n",
              ".list-inline>li:not(:last-child)::after {content: \"\\00b7\"; padding: 0 .5ex}\n",
              "</style>\n",
              "<ol class=list-inline><li>0</li><li>1</li></ol>\n",
              "</dd>\n",
              "</dl>\n"
            ]
          },
          "metadata": {
            "tags": []
          }
        }
      ]
    },
    {
      "cell_type": "code",
      "metadata": {
        "id": "de41oGKUkNiL",
        "outputId": "7badaf92-d61e-482c-db0d-f23c5ac21391",
        "colab": {
          "base_uri": "https://localhost:8080/",
          "height": 249
        }
      },
      "source": [
        "# Quantile\n",
        "\n",
        "lapply(my_data,FUN=quantile)"
      ],
      "execution_count": null,
      "outputs": [
        {
          "output_type": "display_data",
          "data": {
            "text/plain": [
              "$`Daily Time Spent on Site`\n",
              "     0%     25%     50%     75%    100% \n",
              "32.6000 51.3600 68.2150 78.5475 91.4300 \n",
              "\n",
              "$Age\n",
              "  0%  25%  50%  75% 100% \n",
              "  19   29   35   42   61 \n",
              "\n",
              "$`Area Income`\n",
              "      0%      25%      50%      75%     100% \n",
              "13996.50 47031.80 57012.30 65470.64 79484.80 \n",
              "\n",
              "$`Daily Internet Usage`\n",
              "      0%      25%      50%      75%     100% \n",
              "104.7800 138.8300 183.1300 218.7925 269.9600 \n",
              "\n",
              "$Male\n",
              "  0%  25%  50%  75% 100% \n",
              "   0    0    0    1    1 \n",
              "\n",
              "$`Clicked on Ad`\n",
              "  0%  25%  50%  75% 100% \n",
              " 0.0  0.0  0.5  1.0  1.0 \n"
            ],
            "text/latex": "\\begin{description}\n\\item[\\$`Daily Time Spent on Site`] \\begin{description*}\n\\item[0\\textbackslash{}\\%] 32.6\n\\item[25\\textbackslash{}\\%] 51.36\n\\item[50\\textbackslash{}\\%] 68.215\n\\item[75\\textbackslash{}\\%] 78.5475\n\\item[100\\textbackslash{}\\%] 91.43\n\\end{description*}\n\n\\item[\\$Age] \\begin{description*}\n\\item[0\\textbackslash{}\\%] 19\n\\item[25\\textbackslash{}\\%] 29\n\\item[50\\textbackslash{}\\%] 35\n\\item[75\\textbackslash{}\\%] 42\n\\item[100\\textbackslash{}\\%] 61\n\\end{description*}\n\n\\item[\\$`Area Income`] \\begin{description*}\n\\item[0\\textbackslash{}\\%] 13996.5\n\\item[25\\textbackslash{}\\%] 47031.8025\n\\item[50\\textbackslash{}\\%] 57012.3\n\\item[75\\textbackslash{}\\%] 65470.635\n\\item[100\\textbackslash{}\\%] 79484.8\n\\end{description*}\n\n\\item[\\$`Daily Internet Usage`] \\begin{description*}\n\\item[0\\textbackslash{}\\%] 104.78\n\\item[25\\textbackslash{}\\%] 138.83\n\\item[50\\textbackslash{}\\%] 183.13\n\\item[75\\textbackslash{}\\%] 218.7925\n\\item[100\\textbackslash{}\\%] 269.96\n\\end{description*}\n\n\\item[\\$Male] \\begin{description*}\n\\item[0\\textbackslash{}\\%] 0\n\\item[25\\textbackslash{}\\%] 0\n\\item[50\\textbackslash{}\\%] 0\n\\item[75\\textbackslash{}\\%] 1\n\\item[100\\textbackslash{}\\%] 1\n\\end{description*}\n\n\\item[\\$`Clicked on Ad`] \\begin{description*}\n\\item[0\\textbackslash{}\\%] 0\n\\item[25\\textbackslash{}\\%] 0\n\\item[50\\textbackslash{}\\%] 0.5\n\\item[75\\textbackslash{}\\%] 1\n\\item[100\\textbackslash{}\\%] 1\n\\end{description*}\n\n\\end{description}\n",
            "text/markdown": "$`Daily Time Spent on Site`\n:   0%\n:   32.625%\n:   51.3650%\n:   68.21575%\n:   78.5475100%\n:   91.43\n\n\n$Age\n:   0%\n:   1925%\n:   2950%\n:   3575%\n:   42100%\n:   61\n\n\n$`Area Income`\n:   0%\n:   13996.525%\n:   47031.802550%\n:   57012.375%\n:   65470.635100%\n:   79484.8\n\n\n$`Daily Internet Usage`\n:   0%\n:   104.7825%\n:   138.8350%\n:   183.1375%\n:   218.7925100%\n:   269.96\n\n\n$Male\n:   0%\n:   025%\n:   050%\n:   075%\n:   1100%\n:   1\n\n\n$`Clicked on Ad`\n:   0%\n:   025%\n:   050%\n:   0.575%\n:   1100%\n:   1\n\n\n\n\n",
            "text/html": [
              "<dl>\n",
              "\t<dt>$`Daily Time Spent on Site`</dt>\n",
              "\t\t<dd><style>\n",
              ".dl-inline {width: auto; margin:0; padding: 0}\n",
              ".dl-inline>dt, .dl-inline>dd {float: none; width: auto; display: inline-block}\n",
              ".dl-inline>dt::after {content: \":\\0020\"; padding-right: .5ex}\n",
              ".dl-inline>dt:not(:first-of-type) {padding-left: .5ex}\n",
              "</style><dl class=dl-inline><dt>0%</dt><dd>32.6</dd><dt>25%</dt><dd>51.36</dd><dt>50%</dt><dd>68.215</dd><dt>75%</dt><dd>78.5475</dd><dt>100%</dt><dd>91.43</dd></dl>\n",
              "</dd>\n",
              "\t<dt>$Age</dt>\n",
              "\t\t<dd><style>\n",
              ".dl-inline {width: auto; margin:0; padding: 0}\n",
              ".dl-inline>dt, .dl-inline>dd {float: none; width: auto; display: inline-block}\n",
              ".dl-inline>dt::after {content: \":\\0020\"; padding-right: .5ex}\n",
              ".dl-inline>dt:not(:first-of-type) {padding-left: .5ex}\n",
              "</style><dl class=dl-inline><dt>0%</dt><dd>19</dd><dt>25%</dt><dd>29</dd><dt>50%</dt><dd>35</dd><dt>75%</dt><dd>42</dd><dt>100%</dt><dd>61</dd></dl>\n",
              "</dd>\n",
              "\t<dt>$`Area Income`</dt>\n",
              "\t\t<dd><style>\n",
              ".dl-inline {width: auto; margin:0; padding: 0}\n",
              ".dl-inline>dt, .dl-inline>dd {float: none; width: auto; display: inline-block}\n",
              ".dl-inline>dt::after {content: \":\\0020\"; padding-right: .5ex}\n",
              ".dl-inline>dt:not(:first-of-type) {padding-left: .5ex}\n",
              "</style><dl class=dl-inline><dt>0%</dt><dd>13996.5</dd><dt>25%</dt><dd>47031.8025</dd><dt>50%</dt><dd>57012.3</dd><dt>75%</dt><dd>65470.635</dd><dt>100%</dt><dd>79484.8</dd></dl>\n",
              "</dd>\n",
              "\t<dt>$`Daily Internet Usage`</dt>\n",
              "\t\t<dd><style>\n",
              ".dl-inline {width: auto; margin:0; padding: 0}\n",
              ".dl-inline>dt, .dl-inline>dd {float: none; width: auto; display: inline-block}\n",
              ".dl-inline>dt::after {content: \":\\0020\"; padding-right: .5ex}\n",
              ".dl-inline>dt:not(:first-of-type) {padding-left: .5ex}\n",
              "</style><dl class=dl-inline><dt>0%</dt><dd>104.78</dd><dt>25%</dt><dd>138.83</dd><dt>50%</dt><dd>183.13</dd><dt>75%</dt><dd>218.7925</dd><dt>100%</dt><dd>269.96</dd></dl>\n",
              "</dd>\n",
              "\t<dt>$Male</dt>\n",
              "\t\t<dd><style>\n",
              ".dl-inline {width: auto; margin:0; padding: 0}\n",
              ".dl-inline>dt, .dl-inline>dd {float: none; width: auto; display: inline-block}\n",
              ".dl-inline>dt::after {content: \":\\0020\"; padding-right: .5ex}\n",
              ".dl-inline>dt:not(:first-of-type) {padding-left: .5ex}\n",
              "</style><dl class=dl-inline><dt>0%</dt><dd>0</dd><dt>25%</dt><dd>0</dd><dt>50%</dt><dd>0</dd><dt>75%</dt><dd>1</dd><dt>100%</dt><dd>1</dd></dl>\n",
              "</dd>\n",
              "\t<dt>$`Clicked on Ad`</dt>\n",
              "\t\t<dd><style>\n",
              ".dl-inline {width: auto; margin:0; padding: 0}\n",
              ".dl-inline>dt, .dl-inline>dd {float: none; width: auto; display: inline-block}\n",
              ".dl-inline>dt::after {content: \":\\0020\"; padding-right: .5ex}\n",
              ".dl-inline>dt:not(:first-of-type) {padding-left: .5ex}\n",
              "</style><dl class=dl-inline><dt>0%</dt><dd>0</dd><dt>25%</dt><dd>0</dd><dt>50%</dt><dd>0.5</dd><dt>75%</dt><dd>1</dd><dt>100%</dt><dd>1</dd></dl>\n",
              "</dd>\n",
              "</dl>\n"
            ]
          },
          "metadata": {
            "tags": []
          }
        }
      ]
    },
    {
      "cell_type": "code",
      "metadata": {
        "id": "k1_YmXz2kc-o",
        "outputId": "e4dc65cb-1e5c-4d16-a87a-30b3708089bb",
        "colab": {
          "base_uri": "https://localhost:8080/",
          "height": 249
        }
      },
      "source": [
        "# Variance\n",
        "\n",
        "lapply(my_data,FUN=var)"
      ],
      "execution_count": null,
      "outputs": [
        {
          "output_type": "display_data",
          "data": {
            "text/plain": [
              "$`Daily Time Spent on Site`\n",
              "[1] 251.3371\n",
              "\n",
              "$Age\n",
              "[1] 77.18611\n",
              "\n",
              "$`Area Income`\n",
              "[1] 179952406\n",
              "\n",
              "$`Daily Internet Usage`\n",
              "[1] 1927.415\n",
              "\n",
              "$Male\n",
              "[1] 0.2498889\n",
              "\n",
              "$`Clicked on Ad`\n",
              "[1] 0.2502503\n"
            ],
            "text/latex": "\\begin{description}\n\\item[\\$`Daily Time Spent on Site`] 251.337094854855\n\\item[\\$Age] 77.1861051051051\n\\item[\\$`Area Income`] 179952405.951775\n\\item[\\$`Daily Internet Usage`] 1927.41539618619\n\\item[\\$Male] 0.249888888888889\n\\item[\\$`Clicked on Ad`] 0.25025025025025\n\\end{description}\n",
            "text/markdown": "$`Daily Time Spent on Site`\n:   251.337094854855\n$Age\n:   77.1861051051051\n$`Area Income`\n:   179952405.951775\n$`Daily Internet Usage`\n:   1927.41539618619\n$Male\n:   0.249888888888889\n$`Clicked on Ad`\n:   0.25025025025025\n\n\n",
            "text/html": [
              "<dl>\n",
              "\t<dt>$`Daily Time Spent on Site`</dt>\n",
              "\t\t<dd>251.337094854855</dd>\n",
              "\t<dt>$Age</dt>\n",
              "\t\t<dd>77.1861051051051</dd>\n",
              "\t<dt>$`Area Income`</dt>\n",
              "\t\t<dd>179952405.951775</dd>\n",
              "\t<dt>$`Daily Internet Usage`</dt>\n",
              "\t\t<dd>1927.41539618619</dd>\n",
              "\t<dt>$Male</dt>\n",
              "\t\t<dd>0.249888888888889</dd>\n",
              "\t<dt>$`Clicked on Ad`</dt>\n",
              "\t\t<dd>0.25025025025025</dd>\n",
              "</dl>\n"
            ]
          },
          "metadata": {
            "tags": []
          }
        }
      ]
    },
    {
      "cell_type": "code",
      "metadata": {
        "id": "HOnuOkhZkmSN",
        "outputId": "1f561df7-9027-48a3-ab46-9ba97d5e890d",
        "colab": {
          "base_uri": "https://localhost:8080/",
          "height": 249
        }
      },
      "source": [
        "# Standard deviation\n",
        "\n",
        "lapply(my_data,FUN=sd)"
      ],
      "execution_count": null,
      "outputs": [
        {
          "output_type": "display_data",
          "data": {
            "text/plain": [
              "$`Daily Time Spent on Site`\n",
              "[1] 15.85361\n",
              "\n",
              "$Age\n",
              "[1] 8.785562\n",
              "\n",
              "$`Area Income`\n",
              "[1] 13414.63\n",
              "\n",
              "$`Daily Internet Usage`\n",
              "[1] 43.90234\n",
              "\n",
              "$Male\n",
              "[1] 0.4998889\n",
              "\n",
              "$`Clicked on Ad`\n",
              "[1] 0.5002502\n"
            ],
            "text/latex": "\\begin{description}\n\\item[\\$`Daily Time Spent on Site`] 15.8536145675002\n\\item[\\$Age] 8.78556231012592\n\\item[\\$`Area Income`] 13414.6340222824\n\\item[\\$`Daily Internet Usage`] 43.9023393019801\n\\item[\\$Male] 0.499888876540466\n\\item[\\$`Clicked on Ad`] 0.500250187656387\n\\end{description}\n",
            "text/markdown": "$`Daily Time Spent on Site`\n:   15.8536145675002\n$Age\n:   8.78556231012592\n$`Area Income`\n:   13414.6340222824\n$`Daily Internet Usage`\n:   43.9023393019801\n$Male\n:   0.499888876540466\n$`Clicked on Ad`\n:   0.500250187656387\n\n\n",
            "text/html": [
              "<dl>\n",
              "\t<dt>$`Daily Time Spent on Site`</dt>\n",
              "\t\t<dd>15.8536145675002</dd>\n",
              "\t<dt>$Age</dt>\n",
              "\t\t<dd>8.78556231012592</dd>\n",
              "\t<dt>$`Area Income`</dt>\n",
              "\t\t<dd>13414.6340222824</dd>\n",
              "\t<dt>$`Daily Internet Usage`</dt>\n",
              "\t\t<dd>43.9023393019801</dd>\n",
              "\t<dt>$Male</dt>\n",
              "\t\t<dd>0.499888876540466</dd>\n",
              "\t<dt>$`Clicked on Ad`</dt>\n",
              "\t\t<dd>0.500250187656387</dd>\n",
              "</dl>\n"
            ]
          },
          "metadata": {
            "tags": []
          }
        }
      ]
    },
    {
      "cell_type": "markdown",
      "metadata": {
        "id": "tShVwEmAlV0y"
      },
      "source": [
        "- skewness and kurtosis"
      ]
    },
    {
      "cell_type": "code",
      "metadata": {
        "id": "s-Myu7-9n-F9",
        "outputId": "9e1aae3f-2564-4605-9568-4239036c9c90",
        "colab": {
          "base_uri": "https://localhost:8080/"
        }
      },
      "source": [
        "install.packages('cowplot')"
      ],
      "execution_count": null,
      "outputs": [
        {
          "output_type": "stream",
          "text": [
            "Installing package into ‘/usr/local/lib/R/site-library’\n",
            "(as ‘lib’ is unspecified)\n",
            "\n"
          ],
          "name": "stderr"
        }
      ]
    },
    {
      "cell_type": "code",
      "metadata": {
        "id": "6-VsLv8lnUe4",
        "outputId": "70fd6968-7fc1-43ab-b500-c8ad03f0e358",
        "colab": {
          "base_uri": "https://localhost:8080/",
          "height": 437
        }
      },
      "source": [
        "# Histograms\n",
        "library(cowplot)\n",
        "list <-lapply(1:ncol(my_data),\n",
        "              function(col) ggplot2::qplot(my_data[[col]],\n",
        "                                           geom = \"histogram\",\n",
        "                                           binwidth = 2))\n",
        "\n",
        "cowplot::plot_grid(plotlist = list)"
      ],
      "execution_count": null,
      "outputs": [
        {
          "output_type": "display_data",
          "data": {
            "image/png": "[encoded data removed]",
            "text/plain": [
              "plot without title"
            ]
          },
          "metadata": {
            "tags": [],
            "image/png": {
              "width": 420,
              "height": 420
            }
          }
        }
      ]
    },
    {
      "cell_type": "code",
      "metadata": {
        "id": "E5N1o8lOo-x7",
        "outputId": "087cc5da-3a2e-4c53-cb0b-bcb6e2a3efca",
        "colab": {
          "base_uri": "https://localhost:8080/",
          "height": 471
        }
      },
      "source": [
        "library(reshape2)\n",
        "library(ggplot2)\n",
        "gg <- melt(my_data)\n",
        "ggplot(gg, aes(x=value, fill=variable)) +\n",
        "  geom_histogram(binwidth=10)+\n",
        "  facet_grid(variable~.)"
      ],
      "execution_count": null,
      "outputs": [
        {
          "output_type": "stream",
          "text": [
            "No id variables; using all as measure variables\n",
            "\n"
          ],
          "name": "stderr"
        },
        {
          "output_type": "display_data",
          "data": {
            "image/png": "[encoded data removed]",
            "text/plain": [
              "plot without title"
            ]
          },
          "metadata": {
            "tags": [],
            "image/png": {
              "width": 420,
              "height": 420
            }
          }
        }
      ]
    },
    {
      "cell_type": "markdown",
      "metadata": {
        "id": "02chsAYs0LkK"
      },
      "source": [
        "## Bivariate Analysis"
      ]
    },
    {
      "cell_type": "markdown",
      "metadata": {
        "id": "VEJyElxrE-BX"
      },
      "source": [
        "creating relevant visualizations i.e. scatter plots, correlation matrix etc. to determine the relationship between variables and computing and interpreting the Pearson correlation coefficient. They go a step further to provide recommendations for effectively performing bivariate analysis while working on the current problem."
      ]
    },
    {
      "cell_type": "markdown",
      "metadata": {
        "id": "WCLPX6bJFCSk"
      },
      "source": [
        "# Conclusion and Recommendation"
      ]
    }
  ]
}